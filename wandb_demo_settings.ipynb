{
  "cells": [
    {
      "cell_type": "markdown",
      "metadata": {
        "id": "view-in-github",
        "colab_type": "text"
      },
      "source": [
        "<a href=\"https://colab.research.google.com/github/saitejamalyala/8051/blob/gh-pages/wandb_demo_settings.ipynb\" target=\"_parent\"><img src=\"https://colab.research.google.com/assets/colab-badge.svg\" alt=\"Open In Colab\"/></a>"
      ]
    },
    {
      "cell_type": "markdown",
      "metadata": {
        "id": "2sEHE6-pkBpa"
      },
      "source": [
        "# Wandb Demo\n",
        "\n",
        "3 Simple steps\n",
        "\n",
        "1.   Initialize\n",
        "2.   Log\n",
        "  * Metrics\n",
        "  * Tables (All Rich Media)\n",
        "  * Artifacts\n",
        "\n",
        "3. Finish\n",
        "\n",
        "\n",
        "\n",
        "\n"
      ]
    },
    {
      "cell_type": "code",
      "execution_count": null,
      "metadata": {
        "id": "ooD526TjlhWf"
      },
      "outputs": [],
      "source": [
        "!pip install wandb"
      ]
    },
    {
      "cell_type": "markdown",
      "metadata": {
        "id": "agwv26TYlR54"
      },
      "source": [
        "# Imports 📑"
      ]
    },
    {
      "cell_type": "code",
      "execution_count": 3,
      "metadata": {
        "id": "JKXQxj7ElUom"
      },
      "outputs": [],
      "source": [
        "\n",
        "import matplotlib.pyplot as plt\n",
        "import numpy as np\n",
        "import pandas as pd\n",
        "import PIL\n",
        "import tensorflow as tf\n",
        "import random, os\n",
        "from tensorflow.keras.layers import (\n",
        "    Input,\n",
        "    Conv2D,\n",
        "    ReLU,\n",
        "    BatchNormalization,\n",
        "    Add,\n",
        "    Dense,\n",
        "    GlobalMaxPool2D,\n",
        "    MaxPool2D,\n",
        ")\n",
        "from tensorflow.keras.models import Model\n",
        "from tensorflow import keras\n",
        "from tensorflow.keras import layers\n",
        "from tensorflow.keras.models import Sequential\n",
        "import wandb\n",
        "from typing import List, Dict, Tuple, Any, Optional, Union\n",
        "from numpy import ndarray\n",
        "from tensorflow.keras import optimizers \n",
        "import pathlib\n",
        "\n",
        "import seaborn as sns\n",
        "from sklearn.metrics import classification_report\n",
        "import plotly.express as px\n",
        "\n",
        "#from wandb import config as config\n",
        "import wandb\n",
        "from wandb.keras import WandbCallback\n",
        "\n",
        "class_names =  ['daisy', 'dandelion', 'roses', 'sunflowers', 'tulips']\n"
      ]
    },
    {
      "cell_type": "markdown",
      "metadata": {
        "id": "Z99qhzkYlI8W"
      },
      "source": [
        "# Config ⚙️"
      ]
    },
    {
      "cell_type": "code",
      "execution_count": 4,
      "metadata": {
        "id": "4mBC8LqMkAiC"
      },
      "outputs": [],
      "source": [
        "config={}\n",
        "# Dataset config\n",
        "config['batch_size'] = 32\n",
        "config['img_height'] = 180\n",
        "config['img_width'] = 180\n",
        "config['validation_split'] =0.3\n",
        "config['optimize_ds'] = False\n",
        "\n",
        "## Model config\n",
        "config['augment_data']=False\n",
        "config['num_classes'] = len(class_names)\n",
        "config['num_conv_layers'] = 3\n",
        "config['conv_filter_0'] = 16\n",
        "config['conv_filter_1'] = 32\n",
        "config['conv_filter_2'] = 64\n",
        "config['conv_kern_size_0'] = 3\n",
        "config['conv_kern_size_1'] = 3\n",
        "config['conv_kern_size_2'] = 3\n",
        "config['conv_activ'] = 'relu'\n",
        "\n",
        "config['maxpool_kern_size'] = 2\n",
        "\n",
        "config['dense_units'] = 128\n",
        "config['dense_activ'] = 'relu'\n",
        "config['dropout_rate'] = 0.0\n",
        "\n",
        "# optimizer params\n",
        "config['optimizer'] = 'adam'\n",
        "config['learning_rate'] = 0.001\n",
        "\n",
        "# training params\n",
        "config['epochs'] = 10"
      ]
    },
    {
      "cell_type": "markdown",
      "metadata": {
        "id": "_U4xCxBukrL8"
      },
      "source": [
        "# Helper Functions 🤝"
      ]
    },
    {
      "cell_type": "code",
      "execution_count": 5,
      "metadata": {
        "id": "WWyXHeW_kEWM"
      },
      "outputs": [],
      "source": [
        "def set_seed(seed: int = 2022) -> None:\n",
        "    random.seed(seed)\n",
        "    np.random.seed(seed)\n",
        "    tf.random.set_seed(seed)\n",
        "    tf.experimental.numpy.random.seed(seed)\n",
        "    tf.set_random_seed(seed)\n",
        "    # When running on the CuDNN backend, two further options must be set\n",
        "    os.environ['TF_CUDNN_DETERMINISTIC'] = '1'\n",
        "    os.environ['TF_DETERMINISTIC_OPS'] = '1'\n",
        "    # Set a fixed value for the hash seed\n",
        "    os.environ[\"PYTHONHASHSEED\"] = str(seed)\n",
        "    print(f\"Random seed set as {seed}\")\n",
        "\n",
        "def convert_tfdata2numpy(test_ds) -> Union[ndarray, ndarray]:\n",
        "    #IMG_SIZE = params.get(\"img_size\")\n",
        "    np_test_images = np.zeros(shape=(config[\"testset_len\"], config['img_height'], config['img_width'], 3))\n",
        "    np_test_labels = np.zeros(shape=(config[\"testset_len\"],))\n",
        "    j = 0\n",
        "    for image_batch, label_batch in test_ds:\n",
        "        for i in range(image_batch.numpy().shape[0]):\n",
        "            np_test_images[j] = image_batch.numpy()[i]\n",
        "            np_test_labels[j] = label_batch.numpy()[i]\n",
        "            j += 1\n",
        "\n",
        "    return np_test_images, np_test_labels\n",
        "\n",
        "def get_optimizer(config):\n",
        "    if config['optimizer'] == 'adam':\n",
        "        return optimizers.Adam(learning_rate=config['learning_rate'])\n",
        "    if config['optimizer'] == 'nadam':\n",
        "        return optimizers.Nadam(learning_rate=config['learning_rate'])\n",
        "    if config['optimizer'] == 'rmsprop':\n",
        "        return optimizers.RMSprop(learning_rate=config['learning_rate']) \n",
        "    if config['optimizer'] == 'sgd':\n",
        "        return optimizers.SGD(learning_rate=config['learning_rate'])\n",
        "    \n",
        "    return optimizers.Adam(learning_rate=config['learning_rate'])\n",
        "\n",
        "\n",
        "def make_gradcam_heatmap(\n",
        "    img_array: ndarray,\n",
        "    model: keras.Model,\n",
        "    last_conv_layer_name: str = \"conv2d_2\",\n",
        "    pred_index=None,\n",
        ") -> ndarray:\n",
        "\n",
        "    \"\"\"construct gradcam based heatmap\n",
        "    Args:\n",
        "        img_array (ndarray): numpy image array (4 dimensions, including the batch size)\n",
        "        model (tf.keras.Model): trained keras model\n",
        "        last_conv_layer_name (str, optional): name of the last convolutional layer. Defaults to 'conv2d_12'.\n",
        "        pred_index ([type], optional): [description]. Defaults to None.\n",
        "    Returns:\n",
        "        ndarray: heatmap array\n",
        "    \"\"\"\n",
        "\n",
        "    img_array = np.expand_dims(np.fliplr(img_array),axis=0)\n",
        "    last_conv_layer_name = model.layers[-6].name\n",
        "\n",
        "    # First, we create a model that maps the input image to the activations\n",
        "    # of the last conv layer as well as the output predictions\n",
        "    grad_model = tf.keras.models.Model(\n",
        "        [model.inputs], [model.get_layer(last_conv_layer_name).output, model.output]\n",
        "    )\n",
        "\n",
        "    # Then, we compute the gradient of the top predicted class for our input image\n",
        "    # with respect to the activations of the last conv layer\n",
        "    with tf.GradientTape() as tape:\n",
        "        last_conv_layer_output, preds = grad_model(img_array)\n",
        "        if pred_index is None:\n",
        "            pred_index = tf.argmax(preds[0])\n",
        "        class_channel = preds[:, pred_index]\n",
        "\n",
        "    # This is the gradient of the output neuron (top predicted or chosen)\n",
        "    # with regard to the output feature map of the last conv layer\n",
        "    grads = tape.gradient(class_channel, last_conv_layer_output)\n",
        "\n",
        "    # This is a vector where each entry is the mean intensity of the gradient\n",
        "    # over a specific feature map channel\n",
        "    pooled_grads = tf.reduce_mean(grads, axis=(0, 1, 2))\n",
        "\n",
        "    # We multiply each channel in the feature map array\n",
        "    # by \"how important this channel is\" with regard to the top predicted class\n",
        "    # then sum all the channels to obtain the heatmap class activation\n",
        "    last_conv_layer_output = last_conv_layer_output[0]\n",
        "    heatmap = last_conv_layer_output @ pooled_grads[..., tf.newaxis]\n",
        "    heatmap = tf.squeeze(heatmap)\n",
        "\n",
        "    # For visualization purpose, we will also normalize the heatmap between 0 & 1\n",
        "    heatmap = tf.maximum(heatmap, 0) / tf.math.reduce_max(heatmap)\n",
        "    \n",
        "    plt.imshow(heatmap.numpy().astype('float'),cmap='jet')\n",
        "    plt.axis('off')\n",
        "    plt.tight_layout()\n",
        "    return plt"
      ]
    },
    {
      "cell_type": "code",
      "execution_count": 6,
      "metadata": {
        "id": "cSMRY33KlusY"
      },
      "outputs": [],
      "source": [
        "def get_model(config) -> tf.keras.Model:\n",
        "   \n",
        "    data_augmentation = keras.Sequential(\n",
        "      [\n",
        "        layers.RandomFlip(\"horizontal\",\n",
        "                          input_shape=(config['img_height'], config['img_width'], 3)),\n",
        "        layers.RandomRotation(0.1),\n",
        "        layers.RandomZoom(0.1),\n",
        "      ]\n",
        "    )\n",
        "\n",
        "    model = Sequential([\n",
        "        data_augmentation,\n",
        "      layers.Rescaling(1./255, input_shape=(config['img_height'], config['img_width'], 3)),\n",
        "\n",
        "      layers.Conv2D(config['conv_filter_0'], config['conv_kern_size_0'], padding='same', activation=config['conv_activ']),\n",
        "      layers.MaxPooling2D(config['maxpool_kern_size']),\n",
        "\n",
        "      layers.Conv2D(config['conv_filter_1'], config['conv_kern_size_1'], padding='same', activation=config['conv_activ']),\n",
        "      layers.MaxPooling2D(config['maxpool_kern_size']),\n",
        "\n",
        "      layers.Conv2D(config['conv_filter_2'], config['conv_kern_size_2'], padding='same', activation=config['conv_activ']),\n",
        "      layers.MaxPooling2D(config['maxpool_kern_size']),\n",
        "      layers.Dropout(0.2),\n",
        "      layers.Flatten(),\n",
        "\n",
        "      layers.Dense(config['dense_units'], activation=config['dense_activ']),\n",
        "      layers.Dense(config['num_classes'])\n",
        "    ])\n",
        "\n",
        "    model.compile(optimizer=get_optimizer(config),\n",
        "              loss=tf.keras.losses.SparseCategoricalCrossentropy(from_logits=True),\n",
        "              metrics=['accuracy'])\n",
        "    \n",
        "    return model\n"
      ]
    },
    {
      "cell_type": "code",
      "execution_count": 7,
      "metadata": {
        "colab": {
          "base_uri": "https://localhost:8080/"
        },
        "id": "itlib5v8nAzZ",
        "outputId": "100ce7e4-3ca2-4c3f-b1bc-73b052ad814a"
      },
      "outputs": [
        {
          "output_type": "stream",
          "name": "stdout",
          "text": [
            "Downloading data from https://storage.googleapis.com/download.tensorflow.org/example_images/flower_photos.tgz\n",
            "228813984/228813984 [==============================] - 4s 0us/step\n",
            "Total Images: 3670\n"
          ]
        }
      ],
      "source": [
        "dataset_url = \"https://storage.googleapis.com/download.tensorflow.org/example_images/flower_photos.tgz\"\n",
        "data_dir = tf.keras.utils.get_file('flower_photos', origin=dataset_url, untar=True)\n",
        "data_dir = pathlib.Path(data_dir)\n",
        "\n",
        "image_count = len(list(data_dir.glob('*/*.jpg')))\n",
        "print(f'Total Images: {image_count}')\n",
        "\n",
        "def get_dataset(config):\n",
        "  # training dataset\n",
        "  train_ds = tf.keras.utils.image_dataset_from_directory(\n",
        "    data_dir,\n",
        "    validation_split=config['validation_split'],\n",
        "    subset=\"training\",\n",
        "    seed=123,\n",
        "    image_size=(config['img_height'], config['img_width']),\n",
        "    batch_size=config['batch_size'])\n",
        "\n",
        "\n",
        "  # validation dataset\n",
        "  val_ds  = tf.keras.utils.image_dataset_from_directory(\n",
        "    data_dir,\n",
        "    validation_split=config['validation_split'],\n",
        "    subset=\"validation\",\n",
        "    seed=123,\n",
        "    image_size=(config['img_height'], config['img_width']),\n",
        "    batch_size=config['batch_size'])\n",
        "\n",
        "  # test set\n",
        "  val_batches = tf.data.experimental.cardinality(val_ds)\n",
        "  test_ds = val_ds.take(val_batches // 5)\n",
        "  val_ds = val_ds.skip(val_batches // 5)\n",
        "\n",
        "  print(f'Test data set size : {tf.data.experimental.cardinality(test_ds)* config[\"batch_size\"]}')\n",
        "  config[\"testset_len\"] = tf.data.experimental.cardinality(test_ds)* config[\"batch_size\"]\n",
        "\n",
        "  class_names = train_ds.class_names\n",
        "  print(f'Class Names from the dataset: {class_names}')\n",
        "\n",
        "  ### Optimize dataset ###\n",
        "  if config['optimize_ds']:\n",
        "      AUTOTUNE = tf.data.AUTOTUNE\n",
        "      train_ds = train_ds.cache().shuffle(1000).prefetch(buffer_size=AUTOTUNE)\n",
        "      val_ds = val_ds.cache().prefetch(buffer_size=AUTOTUNE)\n",
        "\n",
        "  return train_ds,val_ds,test_ds\n"
      ]
    },
    {
      "cell_type": "markdown",
      "metadata": {
        "id": "BCXwxPiAo9lq"
      },
      "source": [
        "\n",
        "# Training 🏋️\n",
        "\n",
        "*   Log Metrics 📈📊 ✨   \n",
        "\n",
        "![image.png](https://assets.website-files.com/5ac6b7f2924c656f2b13a88c/6179c2c3df4d1d0229610b9c_Experiments%20Tile.svg)"
      ]
    },
    {
      "cell_type": "code",
      "source": [
        "#@title settings\n",
        "#@markdown \n",
        "use_wandb = False #@param {type:\"boolean\"}\n",
        "optimize_dataset = False #@param {type:\"boolean\"}\n",
        "augment_data = False #@param {type:\"boolean\"}\n",
        "add_dropout = 0.55 #@param {type:\"number\", min:0.1, max:0.9}\n",
        "relogin = False #@param {type:\"boolean\"}"
      ],
      "metadata": {
        "id": "Yw4AFKkOup7Q"
      },
      "execution_count": 8,
      "outputs": []
    },
    {
      "cell_type": "code",
      "execution_count": null,
      "metadata": {
        "id": "Zsf98rmcn1Go",
        "colab": {
          "base_uri": "https://localhost:8080/",
          "height": 506
        },
        "outputId": "0b8d7aab-6673-42ad-c1c1-de9180cdbe90"
      },
      "outputs": [
        {
          "output_type": "stream",
          "name": "stderr",
          "text": [
            "ERROR:wandb.jupyter:Failed to detect the name of this notebook, you can set it manually with the WANDB_NOTEBOOK_NAME environment variable to enable code saving.\n"
          ]
        },
        {
          "output_type": "display_data",
          "data": {
            "text/plain": [
              "<IPython.core.display.Javascript object>"
            ],
            "application/javascript": [
              "\n",
              "        window._wandbApiKey = new Promise((resolve, reject) => {\n",
              "            function loadScript(url) {\n",
              "            return new Promise(function(resolve, reject) {\n",
              "                let newScript = document.createElement(\"script\");\n",
              "                newScript.onerror = reject;\n",
              "                newScript.onload = resolve;\n",
              "                document.body.appendChild(newScript);\n",
              "                newScript.src = url;\n",
              "            });\n",
              "            }\n",
              "            loadScript(\"https://cdn.jsdelivr.net/npm/postmate/build/postmate.min.js\").then(() => {\n",
              "            const iframe = document.createElement('iframe')\n",
              "            iframe.style.cssText = \"width:0;height:0;border:none\"\n",
              "            document.body.appendChild(iframe)\n",
              "            const handshake = new Postmate({\n",
              "                container: iframe,\n",
              "                url: 'https://wandb.ai/authorize'\n",
              "            });\n",
              "            const timeout = setTimeout(() => reject(\"Couldn't auto authenticate\"), 5000)\n",
              "            handshake.then(function(child) {\n",
              "                child.on('authorize', data => {\n",
              "                    clearTimeout(timeout)\n",
              "                    resolve(data)\n",
              "                });\n",
              "            });\n",
              "            })\n",
              "        });\n",
              "    "
            ]
          },
          "metadata": {}
        },
        {
          "output_type": "stream",
          "name": "stderr",
          "text": [
            "\u001b[34m\u001b[1mwandb\u001b[0m: Appending key for api.wandb.ai to your netrc file: /root/.netrc\n"
          ]
        },
        {
          "output_type": "stream",
          "name": "stdout",
          "text": [
            "Found 3670 files belonging to 5 classes.\n",
            "Using 2569 files for training.\n",
            "Found 3670 files belonging to 5 classes.\n",
            "Using 1101 files for validation.\n",
            "Test data set size : 224\n",
            "Class Names from the dataset: ['daisy', 'dandelion', 'roses', 'sunflowers', 'tulips']\n",
            "Epoch 1/10\n",
            "81/81 [==============================] - 17s 97ms/step - loss: 1.4837 - accuracy: 0.3499 - val_loss: 1.2389 - val_accuracy: 0.4983\n",
            "Epoch 2/10\n",
            "81/81 [==============================] - 8s 93ms/step - loss: 1.0969 - accuracy: 0.5477 - val_loss: 1.5042 - val_accuracy: 0.4344\n",
            "Epoch 3/10\n",
            "81/81 [==============================] - 8s 93ms/step - loss: 1.0011 - accuracy: 0.5956 - val_loss: 1.0426 - val_accuracy: 0.6089\n",
            "Epoch 4/10\n",
            "81/81 [==============================] - 11s 127ms/step - loss: 0.9384 - accuracy: 0.6283 - val_loss: 1.0281 - val_accuracy: 0.5975\n",
            "Epoch 5/10\n",
            "81/81 [==============================] - 8s 95ms/step - loss: 0.8706 - accuracy: 0.6606 - val_loss: 0.9268 - val_accuracy: 0.6659\n",
            "Epoch 6/10\n",
            "81/81 [==============================] - 9s 104ms/step - loss: 0.8566 - accuracy: 0.6571 - val_loss: 0.9569 - val_accuracy: 0.6477\n",
            "Epoch 7/10\n",
            "81/81 [==============================] - 9s 110ms/step - loss: 0.8250 - accuracy: 0.6684 - val_loss: 0.9008 - val_accuracy: 0.6682\n",
            "Epoch 8/10\n",
            "81/81 [==============================] - 8s 95ms/step - loss: 0.7841 - accuracy: 0.6917 - val_loss: 0.9821 - val_accuracy: 0.6420\n",
            "Epoch 9/10\n",
            "18/81 [=====>........................] - ETA: 4s - loss: 0.7588 - accuracy: 0.7135"
          ]
        }
      ],
      "source": [
        "wandb.login(relogin=relogin)\n",
        "\n",
        "\n",
        "if optimize_dataset:\n",
        "  config['optimize_ds'] = True\n",
        "if augment_data:\n",
        "  config['augment_data']=True\n",
        "config['dropout_rate']=add_dropout\n",
        "\n",
        "\n",
        "# 1. get dataset\n",
        "train_ds,val_ds,test_ds = get_dataset(config)\n",
        "\n",
        "# 2. compile and build model\n",
        "model = get_model(config)\n",
        "model.summary\n",
        "\n",
        "if use_wandb:\n",
        "  # 1️⃣\n",
        "  run=wandb.init(project=\"image_classification\",notes=notes ,config=config, settings=wandb.Settings(start_method=\"thread\"))\n",
        "  np_test_images,np_test_labels = convert_tfdata2numpy(test_ds)\n",
        "  # 2️⃣ keras callback to log, gradients, weights, sample predictions on test data\n",
        "  cb=[WandbCallback(training_data=train_ds,log_weights=True,log_gradients=True,\n",
        "                        validation_data=(np_test_images[:20],np_test_labels[:20]),\n",
        "                        validation_steps=7,input_type='image',output_type='label',\n",
        "                        labels=class_names,predictions=20,log_evaluation=True)]\n",
        "else:\n",
        "  cb=[]\n",
        "\n",
        "# 3. train model\n",
        "history=model.fit(train_ds, validation_data = val_ds,\n",
        "                  epochs=config['epochs'],\n",
        "                  callbacks=cb\n",
        "                  )\n",
        "\n",
        "if use_wandb:\n",
        "  # 3️⃣\n",
        "  #wandb.finish()\n",
        "  pass"
      ]
    },
    {
      "cell_type": "markdown",
      "metadata": {
        "id": "df4IhWgjxAp3"
      },
      "source": [
        "## Boiler plate for plotting"
      ]
    },
    {
      "cell_type": "code",
      "execution_count": null,
      "metadata": {
        "id": "QdyH_alLoO6T"
      },
      "outputs": [],
      "source": [
        "acc = history.history['accuracy']\n",
        "val_acc = history.history['val_accuracy']\n",
        "\n",
        "loss = history.history['loss']\n",
        "val_loss = history.history['val_loss']\n",
        "\n",
        "epochs_range = range(config['epochs'])\n",
        "\n",
        "plt.figure(figsize=(8, 8))\n",
        "plt.subplot(1, 2, 1)\n",
        "plt.plot(epochs_range, acc, label='Training Accuracy')\n",
        "plt.plot(epochs_range, val_acc, label='Validation Accuracy')\n",
        "plt.legend(loc='lower right')\n",
        "plt.title('Training and Validation Accuracy')\n",
        "\n",
        "plt.subplot(1, 2, 2)\n",
        "plt.plot(epochs_range, loss, label='Training Loss')\n",
        "plt.plot(epochs_range, val_loss, label='Validation Loss')\n",
        "plt.legend(loc='upper right')\n",
        "plt.title('Training and Validation Loss')\n",
        "plt.show()"
      ]
    },
    {
      "cell_type": "markdown",
      "source": [
        "# Logging Rich Media\n",
        "* Log Rich Media (To Visualize during training) 🖼️, 📹, 🔊\n",
        "*   Logging Evaluation results (Qualitatively)\n",
        "*   Upload CAM results along\n",
        "\n",
        "![image.svg](https://assets.website-files.com/5ac6b7f2924c656f2b13a88c/617c9275f882bfd7e3907b55_tables.svg)\n"
      ],
      "metadata": {
        "id": "zd4L-aRTKSyk"
      }
    },
    {
      "cell_type": "markdown",
      "source": [
        "## Predict on test set"
      ],
      "metadata": {
        "id": "BoddA57LLBv7"
      }
    },
    {
      "cell_type": "code",
      "source": [
        "predictions = model.predict(np_test_images)\n",
        "scores = tf.nn.softmax(predictions,axis=1)\n",
        "predict_class = np.argmax(scores,axis=1)\n",
        "predict_class_names = [class_names[int(prediction)] for prediction in  predict_class]\n",
        "label_class_names = [class_names[int(label)] for label in  np_test_labels]"
      ],
      "metadata": {
        "id": "5vmD4uBuLFdv",
        "colab": {
          "base_uri": "https://localhost:8080/"
        },
        "outputId": "5406e435-20c7-4b58-b040-edbd13005fd3"
      },
      "execution_count": null,
      "outputs": [
        {
          "output_type": "stream",
          "name": "stdout",
          "text": [
            "7/7 [==============================] - 0s 13ms/step\n"
          ]
        }
      ]
    },
    {
      "cell_type": "markdown",
      "source": [
        "## Log to tables 🔥"
      ],
      "metadata": {
        "id": "Xx-V9diWM00K"
      }
    },
    {
      "cell_type": "code",
      "source": [
        "# Plot 1 - Confusion Matrix plotly figure\n",
        "\n",
        "confusion_mtx = tf.math.confusion_matrix(\n",
        "    #list(test_ds.map(lambda x, y: y)),\n",
        "    np_test_labels,\n",
        "    predict_class,\n",
        "    num_classes=config['num_classes'])\n",
        "\n",
        "path_to_cm_html = \"./plotly_cm.html\"\n",
        "fig1=px.imshow(confusion_mtx,text_auto=True,x=class_names,y=class_names)\n",
        "fig1.update_xaxes(side=\"top\")\n",
        "fig1.show()\n",
        "fig1.write_html(path_to_cm_html, auto_play = False) \n",
        "\n",
        "\n",
        "# Plot 2- Classification report\n",
        "\n",
        "cr=pd.DataFrame(classification_report(np_test_labels, predict_class,target_names=class_names,output_dict=True)).transpose()\n",
        "path_to_cr_html = \"./plotly_figure.html\"\n",
        "fig=px.imshow(cr,text_auto=True,zmin=0.5,zmax=0.9)\n",
        "fig.update_xaxes(side=\"top\")\n",
        "fig.show()\n",
        "fig.write_html(path_to_cr_html, auto_play = False) \n",
        "\n",
        "\n",
        "# Logging Data to Tables\n",
        "\n",
        "test_data_logging = [[wandb.Image(image),wandb.Image(make_gradcam_heatmap(image,model=model)),class_names[int(prediction)],class_names[int(label)],score] for image, prediction, label, score in zip(np_test_images, predict_class, np_test_labels, scores)]    \n",
        "\n",
        "test_data_table=wandb.Table(data=test_data_logging,columns=[\"images\",\"CAM\",\"predictions\",\"labels\",\"scores\"])\n",
        "\n",
        "# logging plot 1 to tables\n",
        "classifiction_report_table = wandb.Table(data=cr,rows=cr.index)\n",
        "wandb.log({\"test_data\":test_data_table})\n",
        "\n",
        "# Create a table\n",
        "cm_table = wandb.Table(columns = [\"plotly_figure\"])\n",
        "# Add Plotly figure as HTML file into Table\n",
        "cm_table.add_data(wandb.Html(path_to_cm_html))\n",
        "# Log Table\n",
        "wandb.log({\"plotly_cm\": cm_table})\n",
        "\n",
        "\n",
        "# logging plot 2 to tables\n",
        "cr_table = wandb.Table(columns = [\"plotly_figure\"])\n",
        "cr_table.add_data(wandb.Html(path_to_cr_html))\n",
        "wandb.log({\"plotly_cr\": cr_table})\n",
        "\n",
        "#wandb.finish()\n"
      ],
      "metadata": {
        "id": "apLvSrTuKwvv",
        "colab": {
          "base_uri": "https://localhost:8080/",
          "height": 1000
        },
        "outputId": "6537e77d-284d-458b-93a0-bed001c249f3"
      },
      "execution_count": null,
      "outputs": [
        {
          "output_type": "display_data",
          "data": {
            "text/html": [
              "<html>\n",
              "<head><meta charset=\"utf-8\" /></head>\n",
              "<body>\n",
              "    <div>            <script src=\"https://cdnjs.cloudflare.com/ajax/libs/mathjax/2.7.5/MathJax.js?config=TeX-AMS-MML_SVG\"></script><script type=\"text/javascript\">if (window.MathJax) {MathJax.Hub.Config({SVG: {font: \"STIX-Web\"}});}</script>                <script type=\"text/javascript\">window.PlotlyConfig = {MathJaxConfig: 'local'};</script>\n",
              "        <script src=\"https://cdn.plot.ly/plotly-2.8.3.min.js\"></script>                <div id=\"f6be204f-91a4-446a-88b7-58bc76147ed9\" class=\"plotly-graph-div\" style=\"height:525px; width:100%;\"></div>            <script type=\"text/javascript\">                                    window.PLOTLYENV=window.PLOTLYENV || {};                                    if (document.getElementById(\"f6be204f-91a4-446a-88b7-58bc76147ed9\")) {                    Plotly.newPlot(                        \"f6be204f-91a4-446a-88b7-58bc76147ed9\",                        [{\"coloraxis\":\"coloraxis\",\"name\":\"0\",\"texttemplate\":\"%{z}\",\"x\":[\"daisy\",\"dandelion\",\"roses\",\"sunflowers\",\"tulips\"],\"y\":[\"daisy\",\"dandelion\",\"roses\",\"sunflowers\",\"tulips\"],\"z\":[[26,4,3,1,2],[4,36,1,5,2],[8,3,16,3,15],[1,1,0,33,6],[8,1,6,4,35]],\"type\":\"heatmap\",\"xaxis\":\"x\",\"yaxis\":\"y\",\"hovertemplate\":\"x: %{x}<br>y: %{y}<br>color: %{z}<extra></extra>\"}],                        {\"template\":{\"data\":{\"bar\":[{\"error_x\":{\"color\":\"#2a3f5f\"},\"error_y\":{\"color\":\"#2a3f5f\"},\"marker\":{\"line\":{\"color\":\"#E5ECF6\",\"width\":0.5},\"pattern\":{\"fillmode\":\"overlay\",\"size\":10,\"solidity\":0.2}},\"type\":\"bar\"}],\"barpolar\":[{\"marker\":{\"line\":{\"color\":\"#E5ECF6\",\"width\":0.5},\"pattern\":{\"fillmode\":\"overlay\",\"size\":10,\"solidity\":0.2}},\"type\":\"barpolar\"}],\"carpet\":[{\"aaxis\":{\"endlinecolor\":\"#2a3f5f\",\"gridcolor\":\"white\",\"linecolor\":\"white\",\"minorgridcolor\":\"white\",\"startlinecolor\":\"#2a3f5f\"},\"baxis\":{\"endlinecolor\":\"#2a3f5f\",\"gridcolor\":\"white\",\"linecolor\":\"white\",\"minorgridcolor\":\"white\",\"startlinecolor\":\"#2a3f5f\"},\"type\":\"carpet\"}],\"choropleth\":[{\"colorbar\":{\"outlinewidth\":0,\"ticks\":\"\"},\"type\":\"choropleth\"}],\"contour\":[{\"colorbar\":{\"outlinewidth\":0,\"ticks\":\"\"},\"colorscale\":[[0.0,\"#0d0887\"],[0.1111111111111111,\"#46039f\"],[0.2222222222222222,\"#7201a8\"],[0.3333333333333333,\"#9c179e\"],[0.4444444444444444,\"#bd3786\"],[0.5555555555555556,\"#d8576b\"],[0.6666666666666666,\"#ed7953\"],[0.7777777777777778,\"#fb9f3a\"],[0.8888888888888888,\"#fdca26\"],[1.0,\"#f0f921\"]],\"type\":\"contour\"}],\"contourcarpet\":[{\"colorbar\":{\"outlinewidth\":0,\"ticks\":\"\"},\"type\":\"contourcarpet\"}],\"heatmap\":[{\"colorbar\":{\"outlinewidth\":0,\"ticks\":\"\"},\"colorscale\":[[0.0,\"#0d0887\"],[0.1111111111111111,\"#46039f\"],[0.2222222222222222,\"#7201a8\"],[0.3333333333333333,\"#9c179e\"],[0.4444444444444444,\"#bd3786\"],[0.5555555555555556,\"#d8576b\"],[0.6666666666666666,\"#ed7953\"],[0.7777777777777778,\"#fb9f3a\"],[0.8888888888888888,\"#fdca26\"],[1.0,\"#f0f921\"]],\"type\":\"heatmap\"}],\"heatmapgl\":[{\"colorbar\":{\"outlinewidth\":0,\"ticks\":\"\"},\"colorscale\":[[0.0,\"#0d0887\"],[0.1111111111111111,\"#46039f\"],[0.2222222222222222,\"#7201a8\"],[0.3333333333333333,\"#9c179e\"],[0.4444444444444444,\"#bd3786\"],[0.5555555555555556,\"#d8576b\"],[0.6666666666666666,\"#ed7953\"],[0.7777777777777778,\"#fb9f3a\"],[0.8888888888888888,\"#fdca26\"],[1.0,\"#f0f921\"]],\"type\":\"heatmapgl\"}],\"histogram\":[{\"marker\":{\"pattern\":{\"fillmode\":\"overlay\",\"size\":10,\"solidity\":0.2}},\"type\":\"histogram\"}],\"histogram2d\":[{\"colorbar\":{\"outlinewidth\":0,\"ticks\":\"\"},\"colorscale\":[[0.0,\"#0d0887\"],[0.1111111111111111,\"#46039f\"],[0.2222222222222222,\"#7201a8\"],[0.3333333333333333,\"#9c179e\"],[0.4444444444444444,\"#bd3786\"],[0.5555555555555556,\"#d8576b\"],[0.6666666666666666,\"#ed7953\"],[0.7777777777777778,\"#fb9f3a\"],[0.8888888888888888,\"#fdca26\"],[1.0,\"#f0f921\"]],\"type\":\"histogram2d\"}],\"histogram2dcontour\":[{\"colorbar\":{\"outlinewidth\":0,\"ticks\":\"\"},\"colorscale\":[[0.0,\"#0d0887\"],[0.1111111111111111,\"#46039f\"],[0.2222222222222222,\"#7201a8\"],[0.3333333333333333,\"#9c179e\"],[0.4444444444444444,\"#bd3786\"],[0.5555555555555556,\"#d8576b\"],[0.6666666666666666,\"#ed7953\"],[0.7777777777777778,\"#fb9f3a\"],[0.8888888888888888,\"#fdca26\"],[1.0,\"#f0f921\"]],\"type\":\"histogram2dcontour\"}],\"mesh3d\":[{\"colorbar\":{\"outlinewidth\":0,\"ticks\":\"\"},\"type\":\"mesh3d\"}],\"parcoords\":[{\"line\":{\"colorbar\":{\"outlinewidth\":0,\"ticks\":\"\"}},\"type\":\"parcoords\"}],\"pie\":[{\"automargin\":true,\"type\":\"pie\"}],\"scatter\":[{\"marker\":{\"colorbar\":{\"outlinewidth\":0,\"ticks\":\"\"}},\"type\":\"scatter\"}],\"scatter3d\":[{\"line\":{\"colorbar\":{\"outlinewidth\":0,\"ticks\":\"\"}},\"marker\":{\"colorbar\":{\"outlinewidth\":0,\"ticks\":\"\"}},\"type\":\"scatter3d\"}],\"scattercarpet\":[{\"marker\":{\"colorbar\":{\"outlinewidth\":0,\"ticks\":\"\"}},\"type\":\"scattercarpet\"}],\"scattergeo\":[{\"marker\":{\"colorbar\":{\"outlinewidth\":0,\"ticks\":\"\"}},\"type\":\"scattergeo\"}],\"scattergl\":[{\"marker\":{\"colorbar\":{\"outlinewidth\":0,\"ticks\":\"\"}},\"type\":\"scattergl\"}],\"scattermapbox\":[{\"marker\":{\"colorbar\":{\"outlinewidth\":0,\"ticks\":\"\"}},\"type\":\"scattermapbox\"}],\"scatterpolar\":[{\"marker\":{\"colorbar\":{\"outlinewidth\":0,\"ticks\":\"\"}},\"type\":\"scatterpolar\"}],\"scatterpolargl\":[{\"marker\":{\"colorbar\":{\"outlinewidth\":0,\"ticks\":\"\"}},\"type\":\"scatterpolargl\"}],\"scatterternary\":[{\"marker\":{\"colorbar\":{\"outlinewidth\":0,\"ticks\":\"\"}},\"type\":\"scatterternary\"}],\"surface\":[{\"colorbar\":{\"outlinewidth\":0,\"ticks\":\"\"},\"colorscale\":[[0.0,\"#0d0887\"],[0.1111111111111111,\"#46039f\"],[0.2222222222222222,\"#7201a8\"],[0.3333333333333333,\"#9c179e\"],[0.4444444444444444,\"#bd3786\"],[0.5555555555555556,\"#d8576b\"],[0.6666666666666666,\"#ed7953\"],[0.7777777777777778,\"#fb9f3a\"],[0.8888888888888888,\"#fdca26\"],[1.0,\"#f0f921\"]],\"type\":\"surface\"}],\"table\":[{\"cells\":{\"fill\":{\"color\":\"#EBF0F8\"},\"line\":{\"color\":\"white\"}},\"header\":{\"fill\":{\"color\":\"#C8D4E3\"},\"line\":{\"color\":\"white\"}},\"type\":\"table\"}]},\"layout\":{\"annotationdefaults\":{\"arrowcolor\":\"#2a3f5f\",\"arrowhead\":0,\"arrowwidth\":1},\"autotypenumbers\":\"strict\",\"coloraxis\":{\"colorbar\":{\"outlinewidth\":0,\"ticks\":\"\"}},\"colorscale\":{\"diverging\":[[0,\"#8e0152\"],[0.1,\"#c51b7d\"],[0.2,\"#de77ae\"],[0.3,\"#f1b6da\"],[0.4,\"#fde0ef\"],[0.5,\"#f7f7f7\"],[0.6,\"#e6f5d0\"],[0.7,\"#b8e186\"],[0.8,\"#7fbc41\"],[0.9,\"#4d9221\"],[1,\"#276419\"]],\"sequential\":[[0.0,\"#0d0887\"],[0.1111111111111111,\"#46039f\"],[0.2222222222222222,\"#7201a8\"],[0.3333333333333333,\"#9c179e\"],[0.4444444444444444,\"#bd3786\"],[0.5555555555555556,\"#d8576b\"],[0.6666666666666666,\"#ed7953\"],[0.7777777777777778,\"#fb9f3a\"],[0.8888888888888888,\"#fdca26\"],[1.0,\"#f0f921\"]],\"sequentialminus\":[[0.0,\"#0d0887\"],[0.1111111111111111,\"#46039f\"],[0.2222222222222222,\"#7201a8\"],[0.3333333333333333,\"#9c179e\"],[0.4444444444444444,\"#bd3786\"],[0.5555555555555556,\"#d8576b\"],[0.6666666666666666,\"#ed7953\"],[0.7777777777777778,\"#fb9f3a\"],[0.8888888888888888,\"#fdca26\"],[1.0,\"#f0f921\"]]},\"colorway\":[\"#636efa\",\"#EF553B\",\"#00cc96\",\"#ab63fa\",\"#FFA15A\",\"#19d3f3\",\"#FF6692\",\"#B6E880\",\"#FF97FF\",\"#FECB52\"],\"font\":{\"color\":\"#2a3f5f\"},\"geo\":{\"bgcolor\":\"white\",\"lakecolor\":\"white\",\"landcolor\":\"#E5ECF6\",\"showlakes\":true,\"showland\":true,\"subunitcolor\":\"white\"},\"hoverlabel\":{\"align\":\"left\"},\"hovermode\":\"closest\",\"mapbox\":{\"style\":\"light\"},\"paper_bgcolor\":\"white\",\"plot_bgcolor\":\"#E5ECF6\",\"polar\":{\"angularaxis\":{\"gridcolor\":\"white\",\"linecolor\":\"white\",\"ticks\":\"\"},\"bgcolor\":\"#E5ECF6\",\"radialaxis\":{\"gridcolor\":\"white\",\"linecolor\":\"white\",\"ticks\":\"\"}},\"scene\":{\"xaxis\":{\"backgroundcolor\":\"#E5ECF6\",\"gridcolor\":\"white\",\"gridwidth\":2,\"linecolor\":\"white\",\"showbackground\":true,\"ticks\":\"\",\"zerolinecolor\":\"white\"},\"yaxis\":{\"backgroundcolor\":\"#E5ECF6\",\"gridcolor\":\"white\",\"gridwidth\":2,\"linecolor\":\"white\",\"showbackground\":true,\"ticks\":\"\",\"zerolinecolor\":\"white\"},\"zaxis\":{\"backgroundcolor\":\"#E5ECF6\",\"gridcolor\":\"white\",\"gridwidth\":2,\"linecolor\":\"white\",\"showbackground\":true,\"ticks\":\"\",\"zerolinecolor\":\"white\"}},\"shapedefaults\":{\"line\":{\"color\":\"#2a3f5f\"}},\"ternary\":{\"aaxis\":{\"gridcolor\":\"white\",\"linecolor\":\"white\",\"ticks\":\"\"},\"baxis\":{\"gridcolor\":\"white\",\"linecolor\":\"white\",\"ticks\":\"\"},\"bgcolor\":\"#E5ECF6\",\"caxis\":{\"gridcolor\":\"white\",\"linecolor\":\"white\",\"ticks\":\"\"}},\"title\":{\"x\":0.05},\"xaxis\":{\"automargin\":true,\"gridcolor\":\"white\",\"linecolor\":\"white\",\"ticks\":\"\",\"title\":{\"standoff\":15},\"zerolinecolor\":\"white\",\"zerolinewidth\":2},\"yaxis\":{\"automargin\":true,\"gridcolor\":\"white\",\"linecolor\":\"white\",\"ticks\":\"\",\"title\":{\"standoff\":15},\"zerolinecolor\":\"white\",\"zerolinewidth\":2}}},\"xaxis\":{\"anchor\":\"y\",\"domain\":[0.0,1.0],\"scaleanchor\":\"y\",\"constrain\":\"domain\",\"side\":\"top\"},\"yaxis\":{\"anchor\":\"x\",\"domain\":[0.0,1.0],\"autorange\":\"reversed\",\"constrain\":\"domain\"},\"coloraxis\":{\"colorscale\":[[0.0,\"#0d0887\"],[0.1111111111111111,\"#46039f\"],[0.2222222222222222,\"#7201a8\"],[0.3333333333333333,\"#9c179e\"],[0.4444444444444444,\"#bd3786\"],[0.5555555555555556,\"#d8576b\"],[0.6666666666666666,\"#ed7953\"],[0.7777777777777778,\"#fb9f3a\"],[0.8888888888888888,\"#fdca26\"],[1.0,\"#f0f921\"]]},\"margin\":{\"t\":60}},                        {\"responsive\": true}                    ).then(function(){\n",
              "                            \n",
              "var gd = document.getElementById('f6be204f-91a4-446a-88b7-58bc76147ed9');\n",
              "var x = new MutationObserver(function (mutations, observer) {{\n",
              "        var display = window.getComputedStyle(gd).display;\n",
              "        if (!display || display === 'none') {{\n",
              "            console.log([gd, 'removed!']);\n",
              "            Plotly.purge(gd);\n",
              "            observer.disconnect();\n",
              "        }}\n",
              "}});\n",
              "\n",
              "// Listen for the removal of the full notebook cells\n",
              "var notebookContainer = gd.closest('#notebook-container');\n",
              "if (notebookContainer) {{\n",
              "    x.observe(notebookContainer, {childList: true});\n",
              "}}\n",
              "\n",
              "// Listen for the clearing of the current output cell\n",
              "var outputEl = gd.closest('.output');\n",
              "if (outputEl) {{\n",
              "    x.observe(outputEl, {childList: true});\n",
              "}}\n",
              "\n",
              "                        })                };                            </script>        </div>\n",
              "</body>\n",
              "</html>"
            ]
          },
          "metadata": {}
        },
        {
          "output_type": "display_data",
          "data": {
            "text/html": [
              "<html>\n",
              "<head><meta charset=\"utf-8\" /></head>\n",
              "<body>\n",
              "    <div>            <script src=\"https://cdnjs.cloudflare.com/ajax/libs/mathjax/2.7.5/MathJax.js?config=TeX-AMS-MML_SVG\"></script><script type=\"text/javascript\">if (window.MathJax) {MathJax.Hub.Config({SVG: {font: \"STIX-Web\"}});}</script>                <script type=\"text/javascript\">window.PlotlyConfig = {MathJaxConfig: 'local'};</script>\n",
              "        <script src=\"https://cdn.plot.ly/plotly-2.8.3.min.js\"></script>                <div id=\"5db0ce32-1098-4ab9-97b6-2cc3932f7c75\" class=\"plotly-graph-div\" style=\"height:525px; width:100%;\"></div>            <script type=\"text/javascript\">                                    window.PLOTLYENV=window.PLOTLYENV || {};                                    if (document.getElementById(\"5db0ce32-1098-4ab9-97b6-2cc3932f7c75\")) {                    Plotly.newPlot(                        \"5db0ce32-1098-4ab9-97b6-2cc3932f7c75\",                        [{\"coloraxis\":\"coloraxis\",\"name\":\"0\",\"texttemplate\":\"%{z}\",\"x\":[\"precision\",\"recall\",\"f1-score\",\"support\"],\"y\":[\"daisy\",\"dandelion\",\"roses\",\"sunflowers\",\"tulips\",\"accuracy\",\"macro avg\",\"weighted avg\"],\"z\":[[0.5531914893617021,0.7222222222222222,0.6265060240963856,36.0],[0.8,0.75,0.7741935483870969,48.0],[0.6153846153846154,0.35555555555555557,0.4507042253521127,45.0],[0.717391304347826,0.8048780487804879,0.7586206896551724,41.0],[0.5833333333333334,0.6481481481481481,0.6140350877192983,54.0],[0.6517857142857143,0.6517857142857143,0.6517857142857143,0.6517857142857143],[0.6538601484854955,0.6561607949412828,0.6448119150420132,224.0],[0.6558939499445975,0.6517857142857143,0.6440113408196418,224.0]],\"type\":\"heatmap\",\"xaxis\":\"x\",\"yaxis\":\"y\",\"hovertemplate\":\"x: %{x}<br>y: %{y}<br>color: %{z}<extra></extra>\"}],                        {\"template\":{\"data\":{\"bar\":[{\"error_x\":{\"color\":\"#2a3f5f\"},\"error_y\":{\"color\":\"#2a3f5f\"},\"marker\":{\"line\":{\"color\":\"#E5ECF6\",\"width\":0.5},\"pattern\":{\"fillmode\":\"overlay\",\"size\":10,\"solidity\":0.2}},\"type\":\"bar\"}],\"barpolar\":[{\"marker\":{\"line\":{\"color\":\"#E5ECF6\",\"width\":0.5},\"pattern\":{\"fillmode\":\"overlay\",\"size\":10,\"solidity\":0.2}},\"type\":\"barpolar\"}],\"carpet\":[{\"aaxis\":{\"endlinecolor\":\"#2a3f5f\",\"gridcolor\":\"white\",\"linecolor\":\"white\",\"minorgridcolor\":\"white\",\"startlinecolor\":\"#2a3f5f\"},\"baxis\":{\"endlinecolor\":\"#2a3f5f\",\"gridcolor\":\"white\",\"linecolor\":\"white\",\"minorgridcolor\":\"white\",\"startlinecolor\":\"#2a3f5f\"},\"type\":\"carpet\"}],\"choropleth\":[{\"colorbar\":{\"outlinewidth\":0,\"ticks\":\"\"},\"type\":\"choropleth\"}],\"contour\":[{\"colorbar\":{\"outlinewidth\":0,\"ticks\":\"\"},\"colorscale\":[[0.0,\"#0d0887\"],[0.1111111111111111,\"#46039f\"],[0.2222222222222222,\"#7201a8\"],[0.3333333333333333,\"#9c179e\"],[0.4444444444444444,\"#bd3786\"],[0.5555555555555556,\"#d8576b\"],[0.6666666666666666,\"#ed7953\"],[0.7777777777777778,\"#fb9f3a\"],[0.8888888888888888,\"#fdca26\"],[1.0,\"#f0f921\"]],\"type\":\"contour\"}],\"contourcarpet\":[{\"colorbar\":{\"outlinewidth\":0,\"ticks\":\"\"},\"type\":\"contourcarpet\"}],\"heatmap\":[{\"colorbar\":{\"outlinewidth\":0,\"ticks\":\"\"},\"colorscale\":[[0.0,\"#0d0887\"],[0.1111111111111111,\"#46039f\"],[0.2222222222222222,\"#7201a8\"],[0.3333333333333333,\"#9c179e\"],[0.4444444444444444,\"#bd3786\"],[0.5555555555555556,\"#d8576b\"],[0.6666666666666666,\"#ed7953\"],[0.7777777777777778,\"#fb9f3a\"],[0.8888888888888888,\"#fdca26\"],[1.0,\"#f0f921\"]],\"type\":\"heatmap\"}],\"heatmapgl\":[{\"colorbar\":{\"outlinewidth\":0,\"ticks\":\"\"},\"colorscale\":[[0.0,\"#0d0887\"],[0.1111111111111111,\"#46039f\"],[0.2222222222222222,\"#7201a8\"],[0.3333333333333333,\"#9c179e\"],[0.4444444444444444,\"#bd3786\"],[0.5555555555555556,\"#d8576b\"],[0.6666666666666666,\"#ed7953\"],[0.7777777777777778,\"#fb9f3a\"],[0.8888888888888888,\"#fdca26\"],[1.0,\"#f0f921\"]],\"type\":\"heatmapgl\"}],\"histogram\":[{\"marker\":{\"pattern\":{\"fillmode\":\"overlay\",\"size\":10,\"solidity\":0.2}},\"type\":\"histogram\"}],\"histogram2d\":[{\"colorbar\":{\"outlinewidth\":0,\"ticks\":\"\"},\"colorscale\":[[0.0,\"#0d0887\"],[0.1111111111111111,\"#46039f\"],[0.2222222222222222,\"#7201a8\"],[0.3333333333333333,\"#9c179e\"],[0.4444444444444444,\"#bd3786\"],[0.5555555555555556,\"#d8576b\"],[0.6666666666666666,\"#ed7953\"],[0.7777777777777778,\"#fb9f3a\"],[0.8888888888888888,\"#fdca26\"],[1.0,\"#f0f921\"]],\"type\":\"histogram2d\"}],\"histogram2dcontour\":[{\"colorbar\":{\"outlinewidth\":0,\"ticks\":\"\"},\"colorscale\":[[0.0,\"#0d0887\"],[0.1111111111111111,\"#46039f\"],[0.2222222222222222,\"#7201a8\"],[0.3333333333333333,\"#9c179e\"],[0.4444444444444444,\"#bd3786\"],[0.5555555555555556,\"#d8576b\"],[0.6666666666666666,\"#ed7953\"],[0.7777777777777778,\"#fb9f3a\"],[0.8888888888888888,\"#fdca26\"],[1.0,\"#f0f921\"]],\"type\":\"histogram2dcontour\"}],\"mesh3d\":[{\"colorbar\":{\"outlinewidth\":0,\"ticks\":\"\"},\"type\":\"mesh3d\"}],\"parcoords\":[{\"line\":{\"colorbar\":{\"outlinewidth\":0,\"ticks\":\"\"}},\"type\":\"parcoords\"}],\"pie\":[{\"automargin\":true,\"type\":\"pie\"}],\"scatter\":[{\"marker\":{\"colorbar\":{\"outlinewidth\":0,\"ticks\":\"\"}},\"type\":\"scatter\"}],\"scatter3d\":[{\"line\":{\"colorbar\":{\"outlinewidth\":0,\"ticks\":\"\"}},\"marker\":{\"colorbar\":{\"outlinewidth\":0,\"ticks\":\"\"}},\"type\":\"scatter3d\"}],\"scattercarpet\":[{\"marker\":{\"colorbar\":{\"outlinewidth\":0,\"ticks\":\"\"}},\"type\":\"scattercarpet\"}],\"scattergeo\":[{\"marker\":{\"colorbar\":{\"outlinewidth\":0,\"ticks\":\"\"}},\"type\":\"scattergeo\"}],\"scattergl\":[{\"marker\":{\"colorbar\":{\"outlinewidth\":0,\"ticks\":\"\"}},\"type\":\"scattergl\"}],\"scattermapbox\":[{\"marker\":{\"colorbar\":{\"outlinewidth\":0,\"ticks\":\"\"}},\"type\":\"scattermapbox\"}],\"scatterpolar\":[{\"marker\":{\"colorbar\":{\"outlinewidth\":0,\"ticks\":\"\"}},\"type\":\"scatterpolar\"}],\"scatterpolargl\":[{\"marker\":{\"colorbar\":{\"outlinewidth\":0,\"ticks\":\"\"}},\"type\":\"scatterpolargl\"}],\"scatterternary\":[{\"marker\":{\"colorbar\":{\"outlinewidth\":0,\"ticks\":\"\"}},\"type\":\"scatterternary\"}],\"surface\":[{\"colorbar\":{\"outlinewidth\":0,\"ticks\":\"\"},\"colorscale\":[[0.0,\"#0d0887\"],[0.1111111111111111,\"#46039f\"],[0.2222222222222222,\"#7201a8\"],[0.3333333333333333,\"#9c179e\"],[0.4444444444444444,\"#bd3786\"],[0.5555555555555556,\"#d8576b\"],[0.6666666666666666,\"#ed7953\"],[0.7777777777777778,\"#fb9f3a\"],[0.8888888888888888,\"#fdca26\"],[1.0,\"#f0f921\"]],\"type\":\"surface\"}],\"table\":[{\"cells\":{\"fill\":{\"color\":\"#EBF0F8\"},\"line\":{\"color\":\"white\"}},\"header\":{\"fill\":{\"color\":\"#C8D4E3\"},\"line\":{\"color\":\"white\"}},\"type\":\"table\"}]},\"layout\":{\"annotationdefaults\":{\"arrowcolor\":\"#2a3f5f\",\"arrowhead\":0,\"arrowwidth\":1},\"autotypenumbers\":\"strict\",\"coloraxis\":{\"colorbar\":{\"outlinewidth\":0,\"ticks\":\"\"}},\"colorscale\":{\"diverging\":[[0,\"#8e0152\"],[0.1,\"#c51b7d\"],[0.2,\"#de77ae\"],[0.3,\"#f1b6da\"],[0.4,\"#fde0ef\"],[0.5,\"#f7f7f7\"],[0.6,\"#e6f5d0\"],[0.7,\"#b8e186\"],[0.8,\"#7fbc41\"],[0.9,\"#4d9221\"],[1,\"#276419\"]],\"sequential\":[[0.0,\"#0d0887\"],[0.1111111111111111,\"#46039f\"],[0.2222222222222222,\"#7201a8\"],[0.3333333333333333,\"#9c179e\"],[0.4444444444444444,\"#bd3786\"],[0.5555555555555556,\"#d8576b\"],[0.6666666666666666,\"#ed7953\"],[0.7777777777777778,\"#fb9f3a\"],[0.8888888888888888,\"#fdca26\"],[1.0,\"#f0f921\"]],\"sequentialminus\":[[0.0,\"#0d0887\"],[0.1111111111111111,\"#46039f\"],[0.2222222222222222,\"#7201a8\"],[0.3333333333333333,\"#9c179e\"],[0.4444444444444444,\"#bd3786\"],[0.5555555555555556,\"#d8576b\"],[0.6666666666666666,\"#ed7953\"],[0.7777777777777778,\"#fb9f3a\"],[0.8888888888888888,\"#fdca26\"],[1.0,\"#f0f921\"]]},\"colorway\":[\"#636efa\",\"#EF553B\",\"#00cc96\",\"#ab63fa\",\"#FFA15A\",\"#19d3f3\",\"#FF6692\",\"#B6E880\",\"#FF97FF\",\"#FECB52\"],\"font\":{\"color\":\"#2a3f5f\"},\"geo\":{\"bgcolor\":\"white\",\"lakecolor\":\"white\",\"landcolor\":\"#E5ECF6\",\"showlakes\":true,\"showland\":true,\"subunitcolor\":\"white\"},\"hoverlabel\":{\"align\":\"left\"},\"hovermode\":\"closest\",\"mapbox\":{\"style\":\"light\"},\"paper_bgcolor\":\"white\",\"plot_bgcolor\":\"#E5ECF6\",\"polar\":{\"angularaxis\":{\"gridcolor\":\"white\",\"linecolor\":\"white\",\"ticks\":\"\"},\"bgcolor\":\"#E5ECF6\",\"radialaxis\":{\"gridcolor\":\"white\",\"linecolor\":\"white\",\"ticks\":\"\"}},\"scene\":{\"xaxis\":{\"backgroundcolor\":\"#E5ECF6\",\"gridcolor\":\"white\",\"gridwidth\":2,\"linecolor\":\"white\",\"showbackground\":true,\"ticks\":\"\",\"zerolinecolor\":\"white\"},\"yaxis\":{\"backgroundcolor\":\"#E5ECF6\",\"gridcolor\":\"white\",\"gridwidth\":2,\"linecolor\":\"white\",\"showbackground\":true,\"ticks\":\"\",\"zerolinecolor\":\"white\"},\"zaxis\":{\"backgroundcolor\":\"#E5ECF6\",\"gridcolor\":\"white\",\"gridwidth\":2,\"linecolor\":\"white\",\"showbackground\":true,\"ticks\":\"\",\"zerolinecolor\":\"white\"}},\"shapedefaults\":{\"line\":{\"color\":\"#2a3f5f\"}},\"ternary\":{\"aaxis\":{\"gridcolor\":\"white\",\"linecolor\":\"white\",\"ticks\":\"\"},\"baxis\":{\"gridcolor\":\"white\",\"linecolor\":\"white\",\"ticks\":\"\"},\"bgcolor\":\"#E5ECF6\",\"caxis\":{\"gridcolor\":\"white\",\"linecolor\":\"white\",\"ticks\":\"\"}},\"title\":{\"x\":0.05},\"xaxis\":{\"automargin\":true,\"gridcolor\":\"white\",\"linecolor\":\"white\",\"ticks\":\"\",\"title\":{\"standoff\":15},\"zerolinecolor\":\"white\",\"zerolinewidth\":2},\"yaxis\":{\"automargin\":true,\"gridcolor\":\"white\",\"linecolor\":\"white\",\"ticks\":\"\",\"title\":{\"standoff\":15},\"zerolinecolor\":\"white\",\"zerolinewidth\":2}}},\"xaxis\":{\"anchor\":\"y\",\"domain\":[0.0,1.0],\"scaleanchor\":\"y\",\"constrain\":\"domain\",\"side\":\"top\"},\"yaxis\":{\"anchor\":\"x\",\"domain\":[0.0,1.0],\"autorange\":\"reversed\",\"constrain\":\"domain\"},\"coloraxis\":{\"colorscale\":[[0.0,\"#0d0887\"],[0.1111111111111111,\"#46039f\"],[0.2222222222222222,\"#7201a8\"],[0.3333333333333333,\"#9c179e\"],[0.4444444444444444,\"#bd3786\"],[0.5555555555555556,\"#d8576b\"],[0.6666666666666666,\"#ed7953\"],[0.7777777777777778,\"#fb9f3a\"],[0.8888888888888888,\"#fdca26\"],[1.0,\"#f0f921\"]],\"cmin\":0.5,\"cmax\":0.9},\"margin\":{\"t\":60}},                        {\"responsive\": true}                    ).then(function(){\n",
              "                            \n",
              "var gd = document.getElementById('5db0ce32-1098-4ab9-97b6-2cc3932f7c75');\n",
              "var x = new MutationObserver(function (mutations, observer) {{\n",
              "        var display = window.getComputedStyle(gd).display;\n",
              "        if (!display || display === 'none') {{\n",
              "            console.log([gd, 'removed!']);\n",
              "            Plotly.purge(gd);\n",
              "            observer.disconnect();\n",
              "        }}\n",
              "}});\n",
              "\n",
              "// Listen for the removal of the full notebook cells\n",
              "var notebookContainer = gd.closest('#notebook-container');\n",
              "if (notebookContainer) {{\n",
              "    x.observe(notebookContainer, {childList: true});\n",
              "}}\n",
              "\n",
              "// Listen for the clearing of the current output cell\n",
              "var outputEl = gd.closest('.output');\n",
              "if (outputEl) {{\n",
              "    x.observe(outputEl, {childList: true});\n",
              "}}\n",
              "\n",
              "                        })                };                            </script>        </div>\n",
              "</body>\n",
              "</html>"
            ]
          },
          "metadata": {}
        },
        {
          "output_type": "display_data",
          "data": {
            "text/plain": [
              "<Figure size 432x288 with 1 Axes>"
            ],
            "image/png": "[encoded data removed]"
          },
          "metadata": {
            "needs_background": "light"
          }
        }
      ]
    },
    {
      "cell_type": "markdown",
      "source": [
        "# Log Artifacts 🏺\n",
        "\n",
        "1. Model as a artifact 🕸️\n",
        "2. Dataset as a artifact (Light weight) 💾\n",
        "\n",
        "![artifacts.svg](https://assets.website-files.com/5ac6b7f2924c656f2b13a88c/617c32bec49ad74cb23d0436_artifacts.svg)"
      ],
      "metadata": {
        "id": "k6uEmma9M8Yp"
      }
    },
    {
      "cell_type": "code",
      "source": [
        "# Usual way of save model\n",
        "fn='model.h5'\n",
        "model.save(fn)\n",
        "\n",
        "## Model Registry ##\n",
        "\n",
        "#  At the end of training, save the model artifact\n",
        "# Name this artifact after the current run\n",
        "model_artifact_name = \"demo_model_\" + run.id\n",
        "# 1️⃣ Create a new artifact \n",
        "model_artifact = wandb.Artifact(model_artifact_name, type='model')\n",
        "# 2️⃣ Add files to the artifact, in this case a simple text file\n",
        "model_artifact.add_file(fn)\n",
        "# 3️⃣ Log the model to W&B\n",
        "run.log_artifact(model_artifact)\n",
        "\n",
        "wandb.finish()"
      ],
      "metadata": {
        "id": "OjPPzwOwM7Yo",
        "colab": {
          "base_uri": "https://localhost:8080/"
        },
        "outputId": "36e2728a-ab3e-4b6f-b5e3-bc4e64b440eb"
      },
      "execution_count": null,
      "outputs": [
        {
          "output_type": "execute_result",
          "data": {
            "text/plain": [
              "<wandb.sdk.wandb_artifacts.Artifact at 0x7f107c51c0d0>"
            ]
          },
          "metadata": {},
          "execution_count": 11
        }
      ]
    },
    {
      "cell_type": "markdown",
      "source": [
        "## Use Artifacts\n",
        "\n",
        "\n",
        "\n",
        "*   Load existing model artifact\n",
        "*   Evaluate on new data or test set\n",
        "\n",
        "\n"
      ],
      "metadata": {
        "id": "bLL72CUaOYlH"
      }
    },
    {
      "cell_type": "code",
      "source": [
        "wandb.init()\n",
        "artifact = wandb.use_artifact('saitejam/image_classification/demo_model_12qgj4mb:v0', type='model')\n",
        "artifact_dir = artifact.download()\n",
        "artifact_model = tf.keras.models.load_model(os.path.join(artifact_dir,'model.h5'))"
      ],
      "metadata": {
        "id": "iUmBhWLkOxdY",
        "colab": {
          "base_uri": "https://localhost:8080/"
        },
        "outputId": "4390d839-85ed-44e9-c27b-943f274d4d8f"
      },
      "execution_count": null,
      "outputs": [
        {
          "output_type": "stream",
          "name": "stderr",
          "text": [
            "\u001b[34m\u001b[1mwandb\u001b[0m:   1 of 1 files downloaded.  \n"
          ]
        }
      ]
    },
    {
      "cell_type": "code",
      "source": [
        "#artifact_model.summary()\n",
        "test_loss,test_accuracy = artifact_model.evaluate(test_ds)\n",
        "wandb.log({'test_loss':test_loss,'test_accuracy':test_accuracy})\n",
        "wandb.finish()"
      ],
      "metadata": {
        "colab": {
          "base_uri": "https://localhost:8080/"
        },
        "id": "vq2kfeMgYLfv",
        "outputId": "32b3b0a3-ce15-40c5-f00a-4b9b2550db8b"
      },
      "execution_count": null,
      "outputs": [
        {
          "output_type": "stream",
          "name": "stdout",
          "text": [
            "7/7 [==============================] - 2s 123ms/step - loss: 0.9082 - accuracy: 0.6295\n"
          ]
        }
      ]
    },
    {
      "cell_type": "code",
      "source": [],
      "metadata": {
        "colab": {
          "base_uri": "https://localhost:8080/"
        },
        "id": "JQA-hq10aciB",
        "outputId": "84d106e0-165f-4d3f-900b-8686aaba41a7"
      },
      "execution_count": null,
      "outputs": [
        {
          "output_type": "execute_result",
          "data": {
            "text/plain": [
              "0.6294642686843872"
            ]
          },
          "metadata": {},
          "execution_count": 25
        }
      ]
    },
    {
      "cell_type": "markdown",
      "source": [
        "# Custom training loop"
      ],
      "metadata": {
        "id": "l7UnoBCF7s7T"
      }
    },
    {
      "cell_type": "code",
      "source": [
        "#@title Options\n",
        "#@markdown Forms support many types of fields.\n",
        "use_wandb = True #@param {type:\"boolean\"}"
      ],
      "metadata": {
        "cellView": "form",
        "id": "whm_ARBtGYgm"
      },
      "execution_count": null,
      "outputs": []
    },
    {
      "cell_type": "code",
      "source": [
        "# Instantiate an optimizer.\n",
        "optimizer = get_optimizer(config)\n",
        "# Instantiate a loss function.\n",
        "loss_fn = keras.losses.SparseCategoricalCrossentropy(from_logits=True)\n",
        "# Prepare the metrics.\n",
        "train_acc_metric = keras.metrics.SparseCategoricalAccuracy()\n",
        "val_acc_metric = keras.metrics.SparseCategoricalAccuracy()\n",
        "\n",
        "# model\n",
        "model=get_model(config)\n",
        "\n",
        "import time"
      ],
      "metadata": {
        "id": "tzpqUqLwGogg"
      },
      "execution_count": null,
      "outputs": []
    },
    {
      "cell_type": "code",
      "execution_count": null,
      "metadata": {
        "id": "Q3tFtLcvzFkJ"
      },
      "outputs": [],
      "source": [
        "## 1️⃣ init\n",
        "wandb.init(project=\"image_classification\", notes='Custom training loop',config=config)\n",
        "\n",
        "config['epochs']=10\n",
        "\n",
        "for epoch in range(config['epochs']):\n",
        "    print(\"\\nStart of epoch %d\" % (epoch,))\n",
        "    start_time = time.time()\n",
        "\n",
        "    # Iterate over the batches of the dataset.\n",
        "    for step, (x_batch_train, y_batch_train) in enumerate(train_ds):\n",
        "        with tf.GradientTape() as tape:\n",
        "            logits = model(x_batch_train, training=True)\n",
        "            loss_value = loss_fn(y_batch_train, logits)\n",
        "        grads = tape.gradient(loss_value, model.trainable_weights)\n",
        "        optimizer.apply_gradients(zip(grads, model.trainable_weights))\n",
        "\n",
        "        # Update training metric.\n",
        "        train_acc_metric.update_state(y_batch_train, logits)\n",
        "        # Log every 200 batches.\n",
        "        if step % 200 == 0:\n",
        "            print(\n",
        "                \"Training loss (for one batch) at step %d: %.4f\"\n",
        "                % (step, float(loss_value))\n",
        "            )\n",
        "            print(\"Seen so far: %d samples\" % ((step + 1) * config['batch_size']))\n",
        "\n",
        "    # Display metrics at the end of each epoch.\n",
        "    train_acc = train_acc_metric.result()\n",
        "    print(\"Training acc over epoch: %.4f\" % (float(train_acc),))\n",
        "\n",
        "    # Reset training metrics at the end of each epoch\n",
        "    train_acc_metric.reset_states()\n",
        "\n",
        "    # Run a validation loop at the end of each epoch.\n",
        "    for x_batch_val, y_batch_val in val_ds:\n",
        "        val_logits = model(x_batch_val, training=False)\n",
        "        val_loss = loss_fn(y_batch_val, val_logits)\n",
        "        # Update val metrics\n",
        "        val_acc_metric.update_state(y_batch_val, val_logits)\n",
        "    val_acc = val_acc_metric.result()\n",
        "    val_acc_metric.reset_states()\n",
        "    print(\"Validation acc: %.4f\" % (float(val_acc),))\n",
        "    print(\"Time taken: %.2fs\" % (time.time() - start_time))\n",
        "\n",
        "    if use_wandb:\n",
        "      ## 2️⃣ logging ##\n",
        "      wandb.log({'loss':loss_value},step=epoch)\n",
        "      wandb.log({'accuracy':train_acc},step=epoch)\n",
        "      wandb.log({'val_loss':val_loss},step=epoch)\n",
        "      wandb.log({'val_accuracy':val_acc},step=epoch)\n",
        "\n",
        "if use_wandb:\n",
        "  # 3️⃣\n",
        "  wandb.finish()"
      ]
    },
    {
      "cell_type": "markdown",
      "source": [
        "# Sweeps 🧹\n",
        "![sweeps.svg](https://assets.website-files.com/5ac6b7f2924c656f2b13a88c/6179d7b3ce0fba86cce2bc7c_wandb%20sweeps.svg)"
      ],
      "metadata": {
        "id": "CD_VescC6L-_"
      }
    },
    {
      "cell_type": "code",
      "source": [
        "#@title settings\n",
        "#@markdown \n",
        "run_count = 10 #@param {type:\"number\"}\n",
        "run_sweep = False #@param {type:\"boolean\"}"
      ],
      "metadata": {
        "cellView": "form",
        "id": "bCxOVBQf6YL6"
      },
      "execution_count": null,
      "outputs": []
    },
    {
      "cell_type": "markdown",
      "source": [
        "## Sweep Config 🛠️\n"
      ],
      "metadata": {
        "id": "JnD_ZUCP6s-7"
      }
    },
    {
      "cell_type": "markdown",
      "source": [
        "Two ways to specify sweep configuration:\n",
        "1.   A **Config** dictionary\n",
        "2.   **Yaml**\n",
        "\n",
        "Sweep stragtegies:\n",
        "\n",
        "\n",
        "1.   **Grid** Search\n",
        "2.   **Random** Search\n",
        "3.   **Bayesian**\n",
        "\n",
        "\n"
      ],
      "metadata": {
        "id": "vVkAm-pqoN53"
      }
    },
    {
      "cell_type": "code",
      "source": [
        "# Define sweep config\n",
        "sweep_configuration = {\n",
        "    'method': 'bayes',\n",
        "    'name': 'sweep',\n",
        "    'metric': {'goal': 'maximize', 'name': 'val_accuracy'},\n",
        "    'parameters': \n",
        "    {\n",
        "        'epochs': {'values': [10, 15, 20, 25, 30]},\n",
        "        'learning_rate': {'max': 0.01, 'min': 0.0001},\n",
        "        'dropout_rate':{'max': 0.6, 'min': 0.2},\n",
        "        'conv_filter_0': {'values': [8,16, 32, 64]},\n",
        "        'conv_filter_1': {'values': [8,16, 32, 64]},\n",
        "        'conv_filter_2': {'values': [8,16, 32, 64]},\n",
        "        'dense_units':{'values': [8, 16, 32, 64, 128]},\n",
        "        'optimizer': {'values': ['nadam','adam','rmsprop','sgd']}        \n",
        "        \n",
        "     }\n",
        "}\n",
        "\n",
        "if run_sweep:\n",
        "  ## 1️⃣\n",
        "  # Initialize sweep by passing in config. (Optional) Provide a name of the project.\n",
        "  sweep_id = wandb.sweep(sweep=sweep_configuration, project='image_classification')"
      ],
      "metadata": {
        "id": "aQdLlP9e6sJn"
      },
      "execution_count": null,
      "outputs": []
    },
    {
      "cell_type": "markdown",
      "source": [
        "## sweep agent 🕵️"
      ],
      "metadata": {
        "id": "TRGRQE9nIVKz"
      }
    },
    {
      "cell_type": "markdown",
      "source": [
        "Other features\n",
        "*   Create configuration from existing runs (if there are any)\n",
        "*   **Full control**: start, stop, pause \n",
        "*   **Early stoppping**\n",
        "*   Parameter importance\n",
        "*   **Parallelize** agents (also to use two different GPUs) : just use the same *sweep ID* and you are sorted\n"
      ],
      "metadata": {
        "id": "AqsnngDkqh12"
      }
    },
    {
      "cell_type": "code",
      "execution_count": null,
      "metadata": {
        "id": "qpi4tOWRy3Sc"
      },
      "outputs": [],
      "source": [
        "# 1. get dataset\n",
        "train_ds,val_ds,test_ds = get_dataset(config)\n",
        "\n",
        "def train():\n",
        "\n",
        "  # Step2: Initialize W&B run\n",
        "  ## 2️⃣\n",
        "  wandb.init()\n",
        "  \n",
        "  config.update(wandb.config)\n",
        "\n",
        "  # 2. compile and build model\n",
        "  model = get_model(config)\n",
        "\n",
        "  # 3. train model\n",
        "  wandb_cb = WandbCallback(training_data=train_ds,log_weights=True,log_gradients=True,save_models=True,\n",
        "                            validation_data=(np_test_images[:20],np_test_labels[:20]),\n",
        "                            validation_steps=7,input_type='image',output_type='label',\n",
        "                            labels=class_names,predictions=20,log_evaluation=True)\n",
        "\n",
        "  history = model.fit(train_ds, validation_data=val_ds,\n",
        "                      epochs=config['epochs'],\n",
        "                      callbacks=[wandb_cb]\n",
        "                      )\n",
        "\n",
        "if run_sweep:\n",
        "  # Start sweep job.\n",
        "  # 3️⃣\n",
        "  wandb.agent(sweep_id, function=train, count=run_count)"
      ]
    },
    {
      "cell_type": "markdown",
      "source": [
        "# Reports 📝\n"
      ],
      "metadata": {
        "id": "rtKMKvGMSQEN"
      }
    },
    {
      "cell_type": "markdown",
      "source": [
        "\n",
        "*   Doccument your insights 💡\n",
        "*   Distill the information from the runs ℹ️\n",
        "*   Share within the team and between the teams 📜\n"
      ],
      "metadata": {
        "id": "aabmTmPBo6S0"
      }
    },
    {
      "cell_type": "code",
      "source": [],
      "metadata": {
        "id": "tQq8xMkSST7e"
      },
      "execution_count": null,
      "outputs": []
    }
  ],
  "metadata": {
    "accelerator": "GPU",
    "colab": {
      "collapsed_sections": [
        "agwv26TYlR54",
        "Z99qhzkYlI8W",
        "_U4xCxBukrL8",
        "df4IhWgjxAp3",
        "l7UnoBCF7s7T",
        "CD_VescC6L-_"
      ],
      "provenance": [],
      "toc_visible": true,
      "include_colab_link": true
    },
    "kernelspec": {
      "display_name": "Python 3",
      "name": "python3"
    },
    "language_info": {
      "name": "python"
    }
  },
  "nbformat": 4,
  "nbformat_minor": 0
}