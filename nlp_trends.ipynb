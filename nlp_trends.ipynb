{
  "cells": [
    {
      "cell_type": "markdown",
      "metadata": {
        "id": "view-in-github",
        "colab_type": "text"
      },
      "source": [
        "<a href=\"https://colab.research.google.com/github/saitejamalyala/8051/blob/gh-pages/nlp_trends.ipynb\" target=\"_parent\"><img src=\"https://colab.research.google.com/assets/colab-badge.svg\" alt=\"Open In Colab\"/></a>"
      ]
    },
    {
      "cell_type": "markdown",
      "source": [
        "@author: Adnan Ahmad"
      ],
      "metadata": {
        "id": "1AfyHsmrXFJS"
      }
    },
    {
      "cell_type": "markdown",
      "metadata": {
        "id": "xxQ_pg_ObOvH"
      },
      "source": [
        "# Multiclass text classification\n",
        "\n",
        "This notebook aims to demonstrate the use of some of the recent NLP trends to perform **Multiclass text classification**, with a focus on news data.\n",
        "\n",
        "**Trends**\n",
        "\n",
        "The following trends will be used in this notebook:\n",
        "\n",
        "1. Knowledge distillation\n",
        "2. Zero-shot learning\n",
        "3. Roberta language model.\n",
        "4. Quantization\n",
        "5. Performance evaluation.\n",
        "\n",
        "\n",
        "**Library**\n",
        "\n",
        "We will be using the Huggingface library for this notebook.\n",
        "\n",
        "**Steps**\n",
        "\n",
        "1. Collect a dataset for the knowledge distillation task.\n",
        "2. Use a pre-trained Roberta (large) model for zero-shot classification \n",
        "3. Distill the original model and generate student (small) model for the task.\n",
        "4. Use ONNX and quantization to further reduce the model size.\n",
        "5. Evaluate multiple models size, model performance and model latency.\n",
        "6. Use gradel.io to create a user interface."
      ]
    },
    {
      "cell_type": "markdown",
      "source": [
        "**Task summary**\n",
        "\n",
        "* This code trains a small, efficient model called the student model to mimic the behavior of a large, accurate model called the teacher model on a specific text classification task. It does this using a technique called zero-shot distillation, which involves training the student model using only the input-output pairs of the teacher model, without any labeled training examples for the task. The student model is a variant of the original model, which is smaller and faster than the original RoBERT model. The trained student model is then evaluated on a test set and its performance is compared to the teacher model. Finally, the student model is converted to the ONNX format and quantized to reduce its size and improve its performance, and these versions are also evaluated on the test set.\n",
        "\n",
        "Overall, these codes demonstrate how zero-shot distillation and quantization can be used to train a small, efficient models.\n",
        "\n",
        "**Results** \n",
        "\n",
        "- `Original model`: 355MB, 69.33% accuracy, 667 sec (on test set).\n",
        "- `Distilled model`: 255MB, 70.32% accuracy, 48 sec (on test set).\n",
        "- `Quantized mode`: 65MB, 70.41% accuracy , 858 sec (on test set).\n",
        "\n"
      ],
      "metadata": {
        "id": "Yte8iXhdoOE9"
      }
    },
    {
      "cell_type": "markdown",
      "metadata": {
        "id": "wJChj_RUeLSU"
      },
      "source": [
        "# Part-1: Zero-shot classification."
      ]
    },
    {
      "cell_type": "code",
      "source": [
        "!pip install --quiet ipython-autotime\n",
        "%load_ext autotime"
      ],
      "metadata": {
        "id": "02WPtYwPpRyt"
      },
      "execution_count": null,
      "outputs": []
    },
    {
      "cell_type": "code",
      "source": [
        "!pip install --quiet transformers\n",
        "!pip install --quiet datasets==2.8.0"
      ],
      "metadata": {
        "id": "vDmIsi32l-mG"
      },
      "execution_count": null,
      "outputs": []
    },
    {
      "cell_type": "markdown",
      "source": [
        "### Get the dataset"
      ],
      "metadata": {
        "id": "IFOtgGNglfa9"
      }
    },
    {
      "cell_type": "code",
      "execution_count": null,
      "metadata": {
        "id": "hJhPRZPEeTKc",
        "colab": {
          "base_uri": "https://localhost:8080/",
          "height": 125,
          "referenced_widgets": [
            "b4ad403b2e7f4c6585ecb6ea1af46a96",
            "d1fcd08602334c0091b546337ec6294d",
            "ff3152e7aa29470081b8e9bf9b221400",
            "72c6b6c3fdf04ea480bcdf09d68541ef",
            "1ce03e16c1f84bc182cbbaa91e88103e",
            "2f7f81e897e54eb1a3be73125618febf",
            "6ebbc85269824662a983cedf1f373181",
            "d7d5dcf8413947569afb0310a53f1252",
            "3b51aa7e270d486187a624d7aea12281",
            "c7fe6788c7654b34b741bee9104c856c",
            "afd40faf70954c8686142631e5340dae"
          ]
        },
        "outputId": "8a99c73b-5412-4708-e8c7-b2b7061b9aec"
      },
      "outputs": [
        {
          "output_type": "stream",
          "name": "stderr",
          "text": [
            "WARNING:datasets.builder:Found cached dataset ag_news (/root/.cache/huggingface/datasets/ag_news/default/0.0.0/bc2bcb40336ace1a0374767fc29bb0296cdaf8a6da7298436239c54d79180548)\n"
          ]
        },
        {
          "output_type": "display_data",
          "data": {
            "text/plain": [
              "  0%|          | 0/2 [00:00<?, ?it/s]"
            ],
            "application/vnd.jupyter.widget-view+json": {
              "version_major": 2,
              "version_minor": 0,
              "model_id": "b4ad403b2e7f4c6585ecb6ea1af46a96"
            }
          },
          "metadata": {}
        },
        {
          "output_type": "execute_result",
          "data": {
            "text/plain": [
              "\"Wall St. Bears Claw Back Into the Black (Reuters) Reuters - Short-sellers, Wall Street's dwindling\\\\band of ultra-cynics, are seeing green again.\""
            ],
            "application/vnd.google.colaboratory.intrinsic+json": {
              "type": "string"
            }
          },
          "metadata": {},
          "execution_count": 7
        }
      ],
      "source": [
        "# Import the load_dataset function from the datasets module\n",
        "from datasets import load_dataset\n",
        "\n",
        "# Load the 'ag_news' dataset and split it into train and test sets\n",
        "train, test = load_dataset('ag_news', split=['train', 'test'])\n",
        "\n",
        "# Get the text of the first element in the train set\n",
        "train[0]['text']\n"
      ]
    },
    {
      "cell_type": "markdown",
      "source": [
        "### Perform zero-shot classification\n",
        "\n",
        "`roberta-large-mnli` model is a RoBERTa model fine-tuned on the MNLI dataset, and is part of the transformers library. The model has a size of around 355 MB."
      ],
      "metadata": {
        "id": "S9MdQdVgljQO"
      }
    },
    {
      "cell_type": "code",
      "source": [
        "# Import the pipeline function from the transformers module\n",
        "from transformers import pipeline\n",
        "\n",
        "# Create a zero-shot classification pipeline using the 'roberta-large-mnli' model and device 0\n",
        "zero_shot_classifier = pipeline('zero-shot-classification', model=\"roberta-large-mnli\", device=0) #google/flan-t5-small\n",
        "\n",
        "# Define a sequence of text to classify\n",
        "sequence = \"A new moon has been discovered in Jupiter's orbit.\"\n",
        "\n",
        "# Define the class names for the zero-shot classification\n",
        "class_names = [\"the world\", \"sports\", \"business\", \"science/tech\"]\n",
        "\n",
        "# Use the zero-shot classification pipeline to classify the sequence of text\n",
        "result = zero_shot_classifier(sequence, class_names)\n",
        "\n",
        "# Print the result\n",
        "print(result)\n"
      ],
      "metadata": {
        "id": "FEYNs1SFih0c",
        "colab": {
          "base_uri": "https://localhost:8080/"
        },
        "outputId": "ac72a91e-d701-46e0-d4c4-f16ff1f07047"
      },
      "execution_count": null,
      "outputs": [
        {
          "output_type": "stream",
          "name": "stderr",
          "text": [
            "Some weights of the model checkpoint at roberta-large-mnli were not used when initializing RobertaForSequenceClassification: ['roberta.pooler.dense.bias', 'roberta.pooler.dense.weight']\n",
            "- This IS expected if you are initializing RobertaForSequenceClassification from the checkpoint of a model trained on another task or with another architecture (e.g. initializing a BertForSequenceClassification model from a BertForPreTraining model).\n",
            "- This IS NOT expected if you are initializing RobertaForSequenceClassification from the checkpoint of a model that you expect to be exactly identical (initializing a BertForSequenceClassification model from a BertForSequenceClassification model).\n"
          ]
        },
        {
          "output_type": "stream",
          "name": "stdout",
          "text": [
            "{'sequence': \"A new moon has been discovered in Jupiter's orbit.\", 'labels': ['science/tech', 'the world', 'business', 'sports'], 'scores': [0.7967993021011353, 0.08699766546487808, 0.07631053775548935, 0.039892517030239105]}\n"
          ]
        }
      ]
    },
    {
      "cell_type": "markdown",
      "source": [
        "### Save data and class labels"
      ],
      "metadata": {
        "id": "f34Q47fTloos"
      }
    },
    {
      "cell_type": "code",
      "source": [
        "# Create a directory called 'agnews'\n",
        "!mkdir agnews\n",
        "\n",
        "# Open a file called 'train_unlabeled.txt' in the 'agnews' directory in write mode\n",
        "with open(\"agnews/train_unlabeled.txt\", 'w') as f:\n",
        "  # Iterate through the 'text' field of the train set\n",
        "  for seq in train[\"text\"]:\n",
        "    # Write each sequence to the file and add a newline character\n",
        "    f.write(seq + '\\n')"
      ],
      "metadata": {
        "id": "Y_xCc4ALuLPA",
        "colab": {
          "base_uri": "https://localhost:8080/"
        },
        "outputId": "a1d43a19-f373-45a2-96e2-f779bd4fbda5"
      },
      "execution_count": null,
      "outputs": [
        {
          "output_type": "stream",
          "name": "stdout",
          "text": [
            "time: 363 ms (started: 2023-01-02 14:02:05 +00:00)\n"
          ]
        }
      ]
    },
    {
      "cell_type": "code",
      "source": [
        "# Open a file called 'class_names.txt' in the 'agnews' directory in write mode\n",
        "with open(\"agnews/class_names.txt\", 'w') as f:\n",
        "  # Iterate through the class names\n",
        "  for label in class_names:\n",
        "    # Write each class name to the file and add a newline character\n",
        "    f.write(label + '\\n')\n"
      ],
      "metadata": {
        "id": "s-Lky-Dou89W",
        "colab": {
          "base_uri": "https://localhost:8080/"
        },
        "outputId": "af2fc731-693c-45ef-9cc7-a89320d9f112"
      },
      "execution_count": null,
      "outputs": [
        {
          "output_type": "stream",
          "name": "stdout",
          "text": [
            "time: 941 µs (started: 2023-01-02 14:02:07 +00:00)\n"
          ]
        }
      ]
    },
    {
      "cell_type": "markdown",
      "source": [
        "# Part-2: Zero-shot distillition.\n",
        "\n",
        "This code runs the `distill_classifier.py` script from the transformers library with the specified arguments. The script performs zero-shot distillation to train a new smaller student model for zero-shot classification. The student model is trained on the data in the `train_unlabeled.txt` file and the class names are taken from the `class_names.txt` file. Train file is one sentence per line, class labels are just the set of classes/labels. The are not mapped to the train file (unsupervised). The script uses mixed precision training for faster and more efficient training.\n",
        "\n",
        "**Note:** This process will take ~30 min to complete."
      ],
      "metadata": {
        "id": "fM4y-0raivpQ"
      }
    },
    {
      "cell_type": "code",
      "source": [
        "!git clone https://github.com/huggingface/transformers.git"
      ],
      "metadata": {
        "colab": {
          "base_uri": "https://localhost:8080/"
        },
        "id": "9rICH2t5uBYM",
        "outputId": "00958b2a-282a-4f85-8cc5-5f4a807c02da"
      },
      "execution_count": null,
      "outputs": [
        {
          "output_type": "stream",
          "name": "stdout",
          "text": [
            "Cloning into 'transformers'...\n",
            "remote: Enumerating objects: 120766, done.\u001b[K\n",
            "remote: Counting objects: 100% (159/159), done.\u001b[K\n",
            "remote: Compressing objects: 100% (114/114), done.\u001b[K\n",
            "remote: Total 120766 (delta 62), reused 96 (delta 31), pack-reused 120607\u001b[K\n",
            "Receiving objects: 100% (120766/120766), 114.39 MiB | 22.07 MiB/s, done.\n",
            "Resolving deltas: 100% (90227/90227), done.\n",
            "time: 14.2 s (started: 2023-01-02 14:02:10 +00:00)\n"
          ]
        }
      ]
    },
    {
      "cell_type": "code",
      "source": [
        "# Run the distill_classifier.py script from the transformers library\n",
        "!python transformers/examples/research_projects/zero-shot-distillation/distill_classifier.py \\\n",
        "--data_file ./agnews/train_unlabeled.txt \\\n",
        "--class_names_file ./agnews/class_names.txt \\\n",
        "--hypothesis_template \"This text is about {}.\" \\\n",
        "--student_name_or_path distilbert-base-uncased \\\n",
        "--output_dir ./distilbert-base-uncased-agnews-student \\\n",
        "--fp16\n"
      ],
      "metadata": {
        "id": "v93f1CQtvCWk"
      },
      "execution_count": null,
      "outputs": []
    },
    {
      "cell_type": "markdown",
      "source": [
        "Load the trained `distilled student model` and its associated `tokenizer` from the specified directory. "
      ],
      "metadata": {
        "id": "T5J3G-UCjHIe"
      }
    },
    {
      "cell_type": "code",
      "source": [
        "from transformers import AutoModelForSequenceClassification, AutoTokenizer\n",
        "\n",
        "# Load the trained student model's tokenizer from the specified directory\n",
        "tokenizer = AutoTokenizer.from_pretrained(\"./distilbert-base-uncased-agnews-student\")\n",
        "\n",
        "# Load the trained student model from the specified directory\n",
        "model = AutoModelForSequenceClassification.from_pretrained(\"./distilbert-base-uncased-agnews-student\")\n",
        "\n",
        "# Print the model's configuration\n",
        "print(model.config)"
      ],
      "metadata": {
        "id": "GkfbY0JVv3Lh",
        "colab": {
          "base_uri": "https://localhost:8080/"
        },
        "outputId": "6724ece0-5b88-4bad-ee1a-ec6e247de338"
      },
      "execution_count": null,
      "outputs": [
        {
          "output_type": "stream",
          "name": "stdout",
          "text": [
            "DistilBertConfig {\n",
            "  \"_name_or_path\": \"./distilbert-base-uncased-agnews-student\",\n",
            "  \"activation\": \"gelu\",\n",
            "  \"architectures\": [\n",
            "    \"DistilBertForSequenceClassification\"\n",
            "  ],\n",
            "  \"attention_dropout\": 0.1,\n",
            "  \"dim\": 768,\n",
            "  \"dropout\": 0.1,\n",
            "  \"hidden_dim\": 3072,\n",
            "  \"id2label\": {\n",
            "    \"0\": \"the world\",\n",
            "    \"1\": \"sports\",\n",
            "    \"2\": \"business\",\n",
            "    \"3\": \"science/tech\"\n",
            "  },\n",
            "  \"initializer_range\": 0.02,\n",
            "  \"label2id\": {\n",
            "    \"business\": 2,\n",
            "    \"science/tech\": 3,\n",
            "    \"sports\": 1,\n",
            "    \"the world\": 0\n",
            "  },\n",
            "  \"max_position_embeddings\": 512,\n",
            "  \"model_type\": \"distilbert\",\n",
            "  \"n_heads\": 12,\n",
            "  \"n_layers\": 6,\n",
            "  \"pad_token_id\": 0,\n",
            "  \"qa_dropout\": 0.1,\n",
            "  \"seq_classif_dropout\": 0.2,\n",
            "  \"sinusoidal_pos_embds\": false,\n",
            "  \"tie_weights_\": true,\n",
            "  \"torch_dtype\": \"float32\",\n",
            "  \"transformers_version\": \"4.25.1\",\n",
            "  \"vocab_size\": 30522\n",
            "}\n",
            "\n",
            "time: 1.57 s (started: 2023-01-02 14:56:50 +00:00)\n"
          ]
        }
      ]
    },
    {
      "cell_type": "markdown",
      "source": [
        "### Create text-classification pipeline using new student model"
      ],
      "metadata": {
        "id": "mnOsQwH-mdmV"
      }
    },
    {
      "cell_type": "code",
      "source": [
        "# Import the TextClassificationPipeline class from the transformers module\n",
        "from transformers import TextClassificationPipeline\n",
        "\n",
        "# Create a text classification pipeline using the trained student model and its associated tokenizer\n",
        "distilled_classifier = TextClassificationPipeline(model=model, tokenizer=tokenizer, \n",
        "                                                   # Return scores for all classes\n",
        "                                                   return_all_scores=True, \n",
        "                                                   # Use device 0\n",
        "                                                   device=0)\n",
        "\n",
        "# Classify the sequence of text using the distilled classifier pipeline\n",
        "result = distilled_classifier(sequence)\n",
        "\n",
        "# Print the result\n",
        "print(result)\n"
      ],
      "metadata": {
        "id": "RgR5PKic7hW1",
        "colab": {
          "base_uri": "https://localhost:8080/"
        },
        "outputId": "f12e07d9-80db-4bff-da01-044eba5f09fb"
      },
      "execution_count": null,
      "outputs": [
        {
          "output_type": "stream",
          "name": "stdout",
          "text": [
            "[[{'label': 'the world', 'score': 0.1471155285835266}, {'label': 'sports', 'score': 0.029311053454875946}, {'label': 'business', 'score': 0.052956074476242065}, {'label': 'science/tech', 'score': 0.7706173062324524}]]\n"
          ]
        }
      ]
    },
    {
      "cell_type": "markdown",
      "source": [
        "# Part-3: Zero-shot classifier VS Zero-shot distilled (student) classifier performence\n",
        "\n",
        "This code calculates the accuracy of the `zero-shot classifier` and `distilled student classifier` on the test set. It does this by iterating through the test set in batches, using the each classifier to classify the examples in each batch, and storing the predictions. It then calculates the `accuracy` as the proportion of correct predictions and prints the accuracy and runtime. This can be useful for evaluating the performance of the original `zero-shot classifier` and the `distilled student classifier` on unseen data."
      ],
      "metadata": {
        "id": "W5yPbeidkAK_"
      }
    },
    {
      "cell_type": "markdown",
      "source": [
        "### Original zero-shot classifier evaluation"
      ],
      "metadata": {
        "id": "yDMV4w6qnL_L"
      }
    },
    {
      "cell_type": "code",
      "source": [
        "# Import the necessary libraries\n",
        "import numpy as np\n",
        "from time import time\n",
        "from tqdm.auto import tqdm\n",
        "\n",
        "# Start the timer\n",
        "start = time()\n",
        "\n",
        "# Set the batch size\n",
        "batch_size = 32\n",
        "\n",
        "# Set the hypothesis template\n",
        "hypothesis_template = \"This text is about {}.\"\n",
        "\n",
        "# Initialize an empty list for storing predictions\n",
        "preds = []\n",
        "\n",
        "# Iterate through the test set in batches\n",
        "for i in tqdm(range(0, len(test), batch_size)):\n",
        "  # Get the examples in the current batch\n",
        "  examples = test[i:i+batch_size]['text']\n",
        "  # Use the zero-shot classifier to classify the examples\n",
        "  outputs = zero_shot_classifier(examples, class_names, hypothesis_template=hypothesis_template)\n",
        "  # Store the predictions for the current batch\n",
        "  preds += [class_names.index(o['labels'][0]) for o in outputs]\n",
        "\n",
        "# Calculate the accuracy of the model\n",
        "accuracy = np.mean(np.array(preds) == np.array(test['label']))\n",
        "\n",
        "# Print the accuracy and runtime\n",
        "print(f\"Teacher model accuracy: {accuracy*100:0.2f}%\")\n",
        "print(f\"Runtime: {time() - start : 0.2f} seconds\")\n"
      ],
      "metadata": {
        "id": "ujfQZaBx7oXz",
        "colab": {
          "base_uri": "https://localhost:8080/",
          "height": 161,
          "referenced_widgets": [
            "9377b06cc36c4f9fb4e1d03e46a521e0",
            "c51b7cf87dd3418a8771432445033c12",
            "09568470983e4886ba517f5e6acdbd71",
            "2454a0213f554dbaa90de028a53c1a69",
            "04fd4f6fdea14dad91496db917547911",
            "c20524b8aeb84805aa83db3f8215caa0",
            "a481ce4a683f46f69558e9705f0a2ee8",
            "737e1c9e01524922b7480c6297f7e351",
            "f7d83005cef340fe875b143245e38306",
            "46056e55217b4b568adb5610495dab1b",
            "18734f508e9e48039d6df3a92a27f016"
          ]
        },
        "outputId": "c31f1c75-230b-40b7-b80e-e0c82102de90"
      },
      "execution_count": null,
      "outputs": [
        {
          "output_type": "display_data",
          "data": {
            "text/plain": [
              "  0%|          | 0/238 [00:00<?, ?it/s]"
            ],
            "application/vnd.jupyter.widget-view+json": {
              "version_major": 2,
              "version_minor": 0,
              "model_id": "9377b06cc36c4f9fb4e1d03e46a521e0"
            }
          },
          "metadata": {}
        },
        {
          "output_type": "stream",
          "name": "stderr",
          "text": [
            "/usr/local/lib/python3.8/dist-packages/transformers/pipelines/base.py:1043: UserWarning: You seem to be using the pipelines sequentially on GPU. In order to maximize efficiency please use a dataset\n",
            "  warnings.warn(\n"
          ]
        },
        {
          "output_type": "stream",
          "name": "stdout",
          "text": [
            "Teacher model accuracy: 69.33%\n",
            "Runtime:  667.78 seconds\n",
            "time: 11min 7s (started: 2023-01-02 14:57:10 +00:00)\n"
          ]
        }
      ]
    },
    {
      "cell_type": "markdown",
      "source": [
        "### Distilled student classifier evaluation"
      ],
      "metadata": {
        "id": "qunWX5pDnTyO"
      }
    },
    {
      "cell_type": "code",
      "source": [
        "# Start the timer\n",
        "start = time()\n",
        "\n",
        "# Set the batch size\n",
        "batch_size = 128\n",
        "\n",
        "# Set the distilled classifier to return only the top score\n",
        "distilled_classifier.return_all_scores = False\n",
        "\n",
        "# Initialize an empty list for storing predictions\n",
        "preds = []\n",
        "\n",
        "# Iterate through the test set in batches\n",
        "for i in tqdm(range(0, len(test), batch_size)):\n",
        "  # Get the examples in the current batch\n",
        "  examples = test[i:i+batch_size]['text']\n",
        "  # Use the distilled classifier to classify the examples\n",
        "  outputs = distilled_classifier(examples)\n",
        "  # Store the predictions for the current batch\n",
        "  preds += [class_names.index(max(o, key=lambda x: x['score'])['label']) for o in outputs]\n",
        "\n",
        "# Calculate the accuracy of the model\n",
        "accuracy = np.mean(np.array(preds) == np.array(test['label']))\n",
        "\n",
        "# Print the accuracy and runtime\n",
        "print(f\"Distilled model accuracy: {accuracy*100:0.2f}%\")\n",
        "print(f\"Runtime: {time() - start : 0.2f} seconds\")\n"
      ],
      "metadata": {
        "id": "8bV83ZOp72cX",
        "colab": {
          "base_uri": "https://localhost:8080/",
          "height": 104,
          "referenced_widgets": [
            "85dc4e6ed9d04d3c9d1bab9708fc949c",
            "36c49e1de197443d9a244f3771e5da94",
            "d8054ddae70f434b82c78c422cd4a412",
            "639810265f9a4b82877853a3fce2b83a",
            "4c03cd80331d4a51b826070209a0f60d",
            "0cd474cabfef478982f64197245bfe15",
            "ebc7387f40ae426d81c9c2829b3e3761",
            "ce50d5dd6d2845938cd9a0d4c287d737",
            "2c327854f8f2494d849ecde8ffa5c4b1",
            "835bc1e847324a16b090ecbc1e276306",
            "be37460866b549f3a33721355cf3501d"
          ]
        },
        "outputId": "6a8fb238-49d5-4adb-a05b-dd6746168347"
      },
      "execution_count": null,
      "outputs": [
        {
          "output_type": "display_data",
          "data": {
            "text/plain": [
              "  0%|          | 0/60 [00:00<?, ?it/s]"
            ],
            "application/vnd.jupyter.widget-view+json": {
              "version_major": 2,
              "version_minor": 0,
              "model_id": "85dc4e6ed9d04d3c9d1bab9708fc949c"
            }
          },
          "metadata": {}
        },
        {
          "output_type": "stream",
          "name": "stdout",
          "text": [
            "Distilled model accuracy: 70.32%\n",
            "Runtime:  48.39 seconds\n",
            "time: 48.4 s (started: 2023-01-02 15:08:23 +00:00)\n"
          ]
        }
      ]
    },
    {
      "cell_type": "markdown",
      "source": [
        "# Part-4: Quantize distilled model"
      ],
      "metadata": {
        "id": "IgdDrBjgpyli"
      }
    },
    {
      "cell_type": "markdown",
      "source": [
        "This code converts the `distilled student classifier` pipeline to `ONNX format` and saves the ONNX model to the specified file. The ONNX model can be used for running the model on other platforms that support ONNX, such as Microsoft Windows, Apple iOS, and Android. The conversion is performed using the `convert_pytorch` function from the `convert_graph_to_onnx` module of the transformers library. The `opset` argument specifies the version of ONNX to use and the `use_external_format` argument specifies whether to use the internal ONNX format or an external format."
      ],
      "metadata": {
        "id": "Uou3oyS_komO"
      }
    },
    {
      "cell_type": "markdown",
      "source": [
        "### Convert to ONNX"
      ],
      "metadata": {
        "id": "8PbbetTqnsj9"
      }
    },
    {
      "cell_type": "code",
      "source": [
        "!pip install transformers[onnx]\n",
        "!pip install onnxruntime-gpu\n",
        "# Restart runtime"
      ],
      "metadata": {
        "id": "P2uBWw2iDVx5"
      },
      "execution_count": null,
      "outputs": []
    },
    {
      "cell_type": "code",
      "source": [
        "!mkdir onnx"
      ],
      "metadata": {
        "id": "ORvasnNmCQJM"
      },
      "execution_count": null,
      "outputs": []
    },
    {
      "cell_type": "code",
      "source": [
        "# Make sure the ``model`` and the ``pipeline`` are defined in previous sections"
      ],
      "metadata": {
        "id": "aUTuB8uuCcQD"
      },
      "execution_count": null,
      "outputs": []
    },
    {
      "cell_type": "code",
      "source": [
        "# Import the necessary modules\n",
        "import transformers\n",
        "import transformers.convert_graph_to_onnx as onnx_convert\n",
        "from pathlib import Path\n",
        "\n",
        "# Move the model to the CPU\n",
        "model = model.cpu()\n",
        "\n",
        "# Create a text classification pipeline using the trained student model and its associated tokenizer\n",
        "distilled_classifier = TextClassificationPipeline(model=model, tokenizer=tokenizer, return_all_scores=True)\n",
        "\n",
        "# Convert the distilled classifier pipeline to ONNX format\n",
        "onnx_convert.convert_pytorch(distilled_classifier, \n",
        "                             # Use ONNX version 12\n",
        "                             opset=12, \n",
        "                             # Save the ONNX model to the specified file\n",
        "                             output=Path(\"onnx/classifier.onnx\"), \n",
        "                             # Use the internal ONNX format\n",
        "                             use_external_format=False)\n"
      ],
      "metadata": {
        "id": "IZ5I0WVZ2DmP",
        "colab": {
          "base_uri": "https://localhost:8080/"
        },
        "outputId": "7e1c85f3-03cb-4085-be17-abaa6460a659"
      },
      "execution_count": null,
      "outputs": [
        {
          "output_type": "stream",
          "name": "stdout",
          "text": [
            "Using framework PyTorch: 1.13.0+cu116\n",
            "Found input input_ids with shape: {0: 'batch', 1: 'sequence'}\n",
            "Found input attention_mask with shape: {0: 'batch', 1: 'sequence'}\n",
            "Found output output_0 with shape: {0: 'batch'}\n",
            "Ensuring inputs are in correct order\n",
            "head_mask is not present in the generated input list.\n",
            "Generated inputs order: ['input_ids', 'attention_mask']\n"
          ]
        },
        {
          "output_type": "stream",
          "name": "stderr",
          "text": [
            "/usr/local/lib/python3.8/dist-packages/transformers/models/distilbert/modeling_distilbert.py:217: TracerWarning: torch.tensor results are registered as constants in the trace. You can safely ignore this warning if you use this function to create tensors out of constant variables that would be the same every time you call this function. In any other case, this might cause the trace to be incorrect.\n",
            "  mask, torch.tensor(torch.finfo(scores.dtype).min)\n"
          ]
        }
      ]
    },
    {
      "cell_type": "markdown",
      "source": [
        "### Quantize model"
      ],
      "metadata": {
        "id": "WNxktkRznvip"
      }
    },
    {
      "cell_type": "markdown",
      "source": [
        "This code quantizes the ONNX model, which means that it converts the model's floating point weights to integer weights in order to reduce the model's size and improve its performance. The quantization is performed using the `quantize_dynamic` function from the onnxruntime library. The `weight_type` argument specifies the type of integer weights to use and the `optimize_model` argument specifies whether to optimize the model for quantization."
      ],
      "metadata": {
        "id": "agop3Izdk5BE"
      }
    },
    {
      "cell_type": "code",
      "source": [
        "# Import the necessary modules\n",
        "from onnxruntime.quantization import quantize_dynamic, QuantType\n",
        "import tensorflow as tf\n",
        "\n",
        "# Quantize the ONNX model\n",
        "quantize_dynamic(\"onnx/classifier.onnx\", \n",
        "                 # Save the quantized model to the specified file\n",
        "                 \"onnx/classifier_int8.onnx\", \n",
        "                 # Use 8-bit integer weights\n",
        "                 weight_type=QuantType.QUInt8,\n",
        "                 # Optimize the model for quantization\n",
        "                 optimize_model=True)\n"
      ],
      "metadata": {
        "id": "JJEswLtl2TMk",
        "colab": {
          "base_uri": "https://localhost:8080/"
        },
        "outputId": "7d767556-b23a-4ae2-9a0e-509600eae5c8"
      },
      "execution_count": null,
      "outputs": [
        {
          "output_type": "stream",
          "name": "stdout",
          "text": [
            "Ignore MatMul due to non constant B: /[/distilbert/transformer/layer.0/attention/MatMul]\n",
            "Ignore MatMul due to non constant B: /[/distilbert/transformer/layer.0/attention/MatMul_1]\n",
            "Ignore MatMul due to non constant B: /[/distilbert/transformer/layer.1/attention/MatMul]\n",
            "Ignore MatMul due to non constant B: /[/distilbert/transformer/layer.1/attention/MatMul_1]\n",
            "Ignore MatMul due to non constant B: /[/distilbert/transformer/layer.2/attention/MatMul]\n",
            "Ignore MatMul due to non constant B: /[/distilbert/transformer/layer.2/attention/MatMul_1]\n",
            "Ignore MatMul due to non constant B: /[/distilbert/transformer/layer.3/attention/MatMul]\n",
            "Ignore MatMul due to non constant B: /[/distilbert/transformer/layer.3/attention/MatMul_1]\n",
            "Ignore MatMul due to non constant B: /[/distilbert/transformer/layer.4/attention/MatMul]\n",
            "Ignore MatMul due to non constant B: /[/distilbert/transformer/layer.4/attention/MatMul_1]\n",
            "Ignore MatMul due to non constant B: /[/distilbert/transformer/layer.5/attention/MatMul]\n",
            "Ignore MatMul due to non constant B: /[/distilbert/transformer/layer.5/attention/MatMul_1]\n"
          ]
        }
      ]
    },
    {
      "cell_type": "code",
      "source": [
        "# Import the necessary modules\n",
        "import onnxruntime as ort\n",
        "import numpy as np\n",
        "\n",
        "# Load the ONNX model\n",
        "session = ort.InferenceSession(\"onnx/classifier.onnx\", \n",
        "                               # Use the CUDA execution provider\n",
        "                               providers=['CUDAExecutionProvider'])\n",
        "\n",
        "# Load the quantized ONNX model\n",
        "session_int8 = ort.InferenceSession(\"onnx/classifier_int8.onnx\",  \n",
        "                                    # Use the CUDA execution provider\n",
        "                                    providers=['CUDAExecutionProvider'])\n"
      ],
      "metadata": {
        "id": "j1HGD3Qa2S_4"
      },
      "execution_count": null,
      "outputs": []
    },
    {
      "cell_type": "markdown",
      "source": [
        "# Part-5: Evaluate Distilled model VS Quantized distilled model\n",
        "\n",
        "This part evaluates the `quantized` and `non-quantized` student classifier."
      ],
      "metadata": {
        "id": "Pg3du-SQp7X5"
      }
    },
    {
      "cell_type": "markdown",
      "source": [
        "### Non-quantized model evaluation"
      ],
      "metadata": {
        "id": "Rsi2d9QXoCjh"
      }
    },
    {
      "cell_type": "code",
      "source": [
        "# Import the necessary modules\n",
        "import numpy as np\n",
        "from time import time\n",
        "from tqdm.auto import tqdm\n",
        "\n",
        "# Start the timer\n",
        "start = time()\n",
        "\n",
        "# Set the batch size\n",
        "batch_size = 128\n",
        "\n",
        "# Initialize an empty list for storing predictions\n",
        "preds = []\n",
        "\n",
        "# Iterate through the test set in batches\n",
        "for i in tqdm(range(0, len(test), batch_size)):\n",
        "  # Get the examples in the current batch\n",
        "  examples = test[i:i+batch_size]['text']\n",
        "  # Tokenize the examples\n",
        "  examples_tokened = tokenizer(examples, \n",
        "                               # Use padding to ensure that all input sequences have the same length\n",
        "                               padding=\"max_length\", \n",
        "                               # Truncate the input sequences to the specified length\n",
        "                               truncation=True, \n",
        "                               # Set the maximum input sequence length\n",
        "                               max_length=128)\n",
        "\n",
        "  # Create the input feed for the ONNX model\n",
        "  input_feed = {\n",
        "      # Set the input IDs\n",
        "      \"input_ids\": np.array(examples_tokened['input_ids']),\n",
        "      # Set the attention mask\n",
        "      \"attention_mask\": np.array(examples_tokened['attention_mask']),\n",
        "  }\n",
        "\n",
        "  # Run the ONNX model and get the output\n",
        "  out = session.run(input_feed=input_feed, \n",
        "                    # Specify the output tensor\n",
        "                    output_names=['output_0'])[0]\n",
        "  # Get the predictions from the output tensor\n",
        "  predictions = np.argmax(out, axis=-1)\n",
        "  # Store the predictions for the current batch\n",
        "  preds += predictions.tolist()\n",
        "\n",
        "# Calculate the accuracy of the model\n",
        "accuracy = np.mean(np.array(preds) == np.array(test['label']))\n",
        "# Print the accuracy and runtime\n",
        "print(f\"Distilled model accuracy: {accuracy*100:0.2f}%\")\n",
        "print(f\"Runtime: {time() - start : 0.2f} seconds\")"
      ],
      "metadata": {
        "id": "gps6Viof_pp9",
        "colab": {
          "base_uri": "https://localhost:8080/",
          "height": 86,
          "referenced_widgets": [
            "5e6484a8c36a49c98476b4b09d6dbba7",
            "6053df3c35f541b0ad8ae0dce4612c0d",
            "3e52b9a374b544618c1ca5301227b4a9",
            "3d1e9658bb514886966e915cc63e4b13",
            "825b7ed3204d427c8cbc29148a1ab3b8",
            "8377c8a89c674c3b81a0f5523d5bd88b",
            "08a1d67b64e345549415c443c65ae635",
            "623d0170cc094c019d561054b7a2e524",
            "121b1e8c550d465a85f2bb481cfde395",
            "61bf46ee671a4012a1ea0d0571eff9a4",
            "7be049a83b97406480e5c50ce2935988"
          ]
        },
        "outputId": "aa6b7b9c-93db-41a9-94b5-8720ccd22f20"
      },
      "execution_count": null,
      "outputs": [
        {
          "output_type": "display_data",
          "data": {
            "text/plain": [
              "  0%|          | 0/60 [00:00<?, ?it/s]"
            ],
            "application/vnd.jupyter.widget-view+json": {
              "version_major": 2,
              "version_minor": 0,
              "model_id": "5e6484a8c36a49c98476b4b09d6dbba7"
            }
          },
          "metadata": {}
        },
        {
          "output_type": "stream",
          "name": "stdout",
          "text": [
            "Distilled model accuracy: 70.29%\n",
            "Runtime:  27.12 seconds\n"
          ]
        }
      ]
    },
    {
      "cell_type": "markdown",
      "source": [
        "### Quantized model evaluation"
      ],
      "metadata": {
        "id": "V5UuS9eFoHp0"
      }
    },
    {
      "cell_type": "code",
      "source": [
        "# Start the timer\n",
        "start = time()\n",
        "\n",
        "# Set the batch size\n",
        "batch_size = 256\n",
        "\n",
        "# Initialize an empty list for storing predictions\n",
        "preds = []\n",
        "\n",
        "# Iterate through the test set in batches\n",
        "for i in tqdm(range(0, len(test), batch_size)):\n",
        "  # Get the examples in the current batch\n",
        "  examples = test[i:i+batch_size]['text']\n",
        "  # Tokenize the examples\n",
        "  examples_tokened = tokenizer(examples, \n",
        "                               # Use padding to ensure that all input sequences have the same length\n",
        "                               padding=\"max_length\", \n",
        "                               # Truncate the input sequences to the specified length\n",
        "                               truncation=True, \n",
        "                               # Set the maximum input sequence length\n",
        "                               max_length=128)\n",
        "\n",
        "  # Create the input feed for the ONNX model\n",
        "  input_feed = {\n",
        "      # Set the input IDs\n",
        "      \"input_ids\": np.array(examples_tokened['input_ids']),\n",
        "      # Set the attention mask\n",
        "      \"attention_mask\": np.array(examples_tokened['attention_mask']),\n",
        "  }\n",
        "\n",
        "  # Run the quantized ONNX model and get the output\n",
        "  out = session_int8.run(input_feed=input_feed, \n",
        "                         # Specify the output tensor\n",
        "                         output_names=['output_0'])[0]\n",
        "  # Get the predictions from the output tensor\n",
        "  predictions = np.argmax(out, axis=-1)\n",
        "  # Store the predictions for the current batch\n",
        "  preds += predictions.tolist()\n",
        "\n",
        "\n",
        "# Calculate the accuracy of the model\n",
        "accuracy = np.mean(np.array(preds) == np.array(test['label']))\n",
        "# Print the accuracy and runtime\n",
        "print(f\"Quantized distilled model accuracy: {accuracy*100:0.2f}%\")\n",
        "print(f\"Runtime: {time() - start : 0.2f} seconds\")"
      ],
      "metadata": {
        "id": "LwwoTcCj_peG",
        "colab": {
          "base_uri": "https://localhost:8080/",
          "height": 86,
          "referenced_widgets": [
            "013c765211c34d3d826398bfa64608b3",
            "d04751e3846a42de976dfcbc49f2be34",
            "425af30ad28a4695b731ab7cdddff49b",
            "0444407f139f4c7b9b962663cfa5c685",
            "4da75d7e81d74325b94e753dbf2e8d2c",
            "2748db18323d43e4a98a740c5515bae2",
            "c0d17123a6a14896b5a8355c5bac2c87",
            "4c469374d1d54f5ebcaca8fa52e7e044",
            "9cc692fd4d4647f7a7729ba74d5a5c6a",
            "5a66ac89ec66449d8b4936d65285c9fb",
            "8e3412d6d34c42b890987bfedc64a29c"
          ]
        },
        "outputId": "53cd420b-db4a-4955-ab07-c44c2bc25738"
      },
      "execution_count": null,
      "outputs": [
        {
          "output_type": "display_data",
          "data": {
            "text/plain": [
              "  0%|          | 0/30 [00:00<?, ?it/s]"
            ],
            "application/vnd.jupyter.widget-view+json": {
              "version_major": 2,
              "version_minor": 0,
              "model_id": "013c765211c34d3d826398bfa64608b3"
            }
          },
          "metadata": {}
        },
        {
          "output_type": "stream",
          "name": "stdout",
          "text": [
            "Quantized distilled model accuracy: 70.41%\n",
            "Runtime:  858.91 seconds\n"
          ]
        }
      ]
    },
    {
      "cell_type": "markdown",
      "source": [
        "# Part-6: Demo app"
      ],
      "metadata": {
        "id": "CjfBwo6KoMB5"
      }
    },
    {
      "cell_type": "code",
      "source": [
        "!pip install --quiet gradio"
      ],
      "metadata": {
        "id": "YadEZnL8ooLT"
      },
      "execution_count": null,
      "outputs": []
    },
    {
      "cell_type": "code",
      "source": [
        "import gradio as gr\n",
        "\n",
        "def classify_text(text):\n",
        "  # Tokenize the input text\n",
        "  examples_tokened = tokenizer([text], \n",
        "                               # Use padding to ensure that all input sequences have the same length\n",
        "                               padding=\"max_length\", \n",
        "                               # Truncate the input sequences to the specified length\n",
        "                               truncation=True, \n",
        "                               # Set the maximum input sequence length\n",
        "                               max_length=128)\n",
        "  \n",
        "  # Create the input feed for the ONNX model\n",
        "  input_feed = {\n",
        "      # Set the input IDs\n",
        "      \"input_ids\": np.array(examples_tokened['input_ids']),\n",
        "      # Set the attention mask\n",
        "      \"attention_mask\": np.array(examples_tokened['attention_mask']),\n",
        "  }\n",
        "\n",
        "  # Run the quantized ONNX model and get the output\n",
        "  out = session_int8.run(input_feed=input_feed, \n",
        "                         # Specify the output tensor\n",
        "                         output_names=['output_0'])[0]\n",
        "\n",
        "  pred_dict = {\"the world\":out[0][0], \"sports\": out[0][1], \"business\":out[0][2], \"science/tech\": out[0][3]}\n",
        "  # Define the class names for the zero-shot classification\n",
        "  class_names = [\"the world\", \"sports\", \"business\", \"science/tech\"]\n",
        "  # Get the predictions from the output tensor\n",
        "  predictions = np.argmax(out, axis=-1)\n",
        "  #print(predictions)\n",
        "  label = class_names[predictions[0]]\n",
        "\n",
        "  return str(pred_dict)"
      ],
      "metadata": {
        "id": "bYN_axgiQETE"
      },
      "execution_count": null,
      "outputs": []
    },
    {
      "cell_type": "code",
      "source": [
        "demo = gr.Interface(\n",
        "    classify_text,\n",
        "    inputs=gr.Textbox(placeholder=\"Enter a string here\"), \n",
        "    outputs=gr.Textbox()\n",
        "    )\n",
        "\n",
        "demo.launch()"
      ],
      "metadata": {
        "colab": {
          "base_uri": "https://localhost:8080/",
          "height": 621
        },
        "id": "tyt-QT5uIbq5",
        "outputId": "53715887-604f-47e8-912d-44d8d11b13e3"
      },
      "execution_count": null,
      "outputs": [
        {
          "output_type": "stream",
          "name": "stdout",
          "text": [
            "Colab notebook detected. To show errors in colab notebook, set debug=True in launch()\n",
            "Note: opening Chrome Inspector may crash demo inside Colab notebooks.\n",
            "\n",
            "To create a public link, set `share=True` in `launch()`.\n"
          ]
        },
        {
          "output_type": "display_data",
          "data": {
            "text/plain": [
              "<IPython.core.display.Javascript object>"
            ],
            "application/javascript": [
              "(async (port, path, width, height, cache, element) => {\n",
              "                        if (!google.colab.kernel.accessAllowed && !cache) {\n",
              "                            return;\n",
              "                        }\n",
              "                        element.appendChild(document.createTextNode(''));\n",
              "                        const url = await google.colab.kernel.proxyPort(port, {cache});\n",
              "\n",
              "                        const external_link = document.createElement('div');\n",
              "                        external_link.innerHTML = `\n",
              "                            <div style=\"font-family: monospace; margin-bottom: 0.5rem\">\n",
              "                                Running on <a href=${new URL(path, url).toString()} target=\"_blank\">\n",
              "                                    https://localhost:${port}${path}\n",
              "                                </a>\n",
              "                            </div>\n",
              "                        `;\n",
              "                        element.appendChild(external_link);\n",
              "\n",
              "                        const iframe = document.createElement('iframe');\n",
              "                        iframe.src = new URL(path, url).toString();\n",
              "                        iframe.height = height;\n",
              "                        iframe.allow = \"autoplay; camera; microphone; clipboard-read; clipboard-write;\"\n",
              "                        iframe.width = width;\n",
              "                        iframe.style.border = 0;\n",
              "                        element.appendChild(iframe);\n",
              "                    })(7872, \"/\", \"100%\", 500, false, window.element)"
            ]
          },
          "metadata": {}
        },
        {
          "output_type": "execute_result",
          "data": {
            "text/plain": []
          },
          "metadata": {},
          "execution_count": 72
        }
      ]
    },
    {
      "cell_type": "code",
      "source": [],
      "metadata": {
        "id": "3OAin8bmL3ju"
      },
      "execution_count": null,
      "outputs": []
    }
  ],
  "metadata": {
    "accelerator": "GPU",
    "colab": {
      "provenance": [],
      "include_colab_link": true
    },
    "gpuClass": "standard",
    "kernelspec": {
      "display_name": "Python 3",
      "name": "python3"
    },
    "language_info": {
      "name": "python"
    },
    "widgets": {
      "application/vnd.jupyter.widget-state+json": {
        "b4ad403b2e7f4c6585ecb6ea1af46a96": {
          "model_module": "@jupyter-widgets/controls",
          "model_name": "HBoxModel",
          "model_module_version": "1.5.0",
          "state": {
            "_dom_classes": [],
            "_model_module": "@jupyter-widgets/controls",
            "_model_module_version": "1.5.0",
            "_model_name": "HBoxModel",
            "_view_count": null,
            "_view_module": "@jupyter-widgets/controls",
            "_view_module_version": "1.5.0",
            "_view_name": "HBoxView",
            "box_style": "",
            "children": [
              "IPY_MODEL_d1fcd08602334c0091b546337ec6294d",
              "IPY_MODEL_ff3152e7aa29470081b8e9bf9b221400",
              "IPY_MODEL_72c6b6c3fdf04ea480bcdf09d68541ef"
            ],
            "layout": "IPY_MODEL_1ce03e16c1f84bc182cbbaa91e88103e"
          }
        },
        "d1fcd08602334c0091b546337ec6294d": {
          "model_module": "@jupyter-widgets/controls",
          "model_name": "HTMLModel",
          "model_module_version": "1.5.0",
          "state": {
            "_dom_classes": [],
            "_model_module": "@jupyter-widgets/controls",
            "_model_module_version": "1.5.0",
            "_model_name": "HTMLModel",
            "_view_count": null,
            "_view_module": "@jupyter-widgets/controls",
            "_view_module_version": "1.5.0",
            "_view_name": "HTMLView",
            "description": "",
            "description_tooltip": null,
            "layout": "IPY_MODEL_2f7f81e897e54eb1a3be73125618febf",
            "placeholder": "​",
            "style": "IPY_MODEL_6ebbc85269824662a983cedf1f373181",
            "value": "100%"
          }
        },
        "ff3152e7aa29470081b8e9bf9b221400": {
          "model_module": "@jupyter-widgets/controls",
          "model_name": "FloatProgressModel",
          "model_module_version": "1.5.0",
          "state": {
            "_dom_classes": [],
            "_model_module": "@jupyter-widgets/controls",
            "_model_module_version": "1.5.0",
            "_model_name": "FloatProgressModel",
            "_view_count": null,
            "_view_module": "@jupyter-widgets/controls",
            "_view_module_version": "1.5.0",
            "_view_name": "ProgressView",
            "bar_style": "success",
            "description": "",
            "description_tooltip": null,
            "layout": "IPY_MODEL_d7d5dcf8413947569afb0310a53f1252",
            "max": 2,
            "min": 0,
            "orientation": "horizontal",
            "style": "IPY_MODEL_3b51aa7e270d486187a624d7aea12281",
            "value": 2
          }
        },
        "72c6b6c3fdf04ea480bcdf09d68541ef": {
          "model_module": "@jupyter-widgets/controls",
          "model_name": "HTMLModel",
          "model_module_version": "1.5.0",
          "state": {
            "_dom_classes": [],
            "_model_module": "@jupyter-widgets/controls",
            "_model_module_version": "1.5.0",
            "_model_name": "HTMLModel",
            "_view_count": null,
            "_view_module": "@jupyter-widgets/controls",
            "_view_module_version": "1.5.0",
            "_view_name": "HTMLView",
            "description": "",
            "description_tooltip": null,
            "layout": "IPY_MODEL_c7fe6788c7654b34b741bee9104c856c",
            "placeholder": "​",
            "style": "IPY_MODEL_afd40faf70954c8686142631e5340dae",
            "value": " 2/2 [00:00&lt;00:00,  5.79it/s]"
          }
        },
        "1ce03e16c1f84bc182cbbaa91e88103e": {
          "model_module": "@jupyter-widgets/base",
          "model_name": "LayoutModel",
          "model_module_version": "1.2.0",
          "state": {
            "_model_module": "@jupyter-widgets/base",
            "_model_module_version": "1.2.0",
            "_model_name": "LayoutModel",
            "_view_count": null,
            "_view_module": "@jupyter-widgets/base",
            "_view_module_version": "1.2.0",
            "_view_name": "LayoutView",
            "align_content": null,
            "align_items": null,
            "align_self": null,
            "border": null,
            "bottom": null,
            "display": null,
            "flex": null,
            "flex_flow": null,
            "grid_area": null,
            "grid_auto_columns": null,
            "grid_auto_flow": null,
            "grid_auto_rows": null,
            "grid_column": null,
            "grid_gap": null,
            "grid_row": null,
            "grid_template_areas": null,
            "grid_template_columns": null,
            "grid_template_rows": null,
            "height": null,
            "justify_content": null,
            "justify_items": null,
            "left": null,
            "margin": null,
            "max_height": null,
            "max_width": null,
            "min_height": null,
            "min_width": null,
            "object_fit": null,
            "object_position": null,
            "order": null,
            "overflow": null,
            "overflow_x": null,
            "overflow_y": null,
            "padding": null,
            "right": null,
            "top": null,
            "visibility": null,
            "width": null
          }
        },
        "2f7f81e897e54eb1a3be73125618febf": {
          "model_module": "@jupyter-widgets/base",
          "model_name": "LayoutModel",
          "model_module_version": "1.2.0",
          "state": {
            "_model_module": "@jupyter-widgets/base",
            "_model_module_version": "1.2.0",
            "_model_name": "LayoutModel",
            "_view_count": null,
            "_view_module": "@jupyter-widgets/base",
            "_view_module_version": "1.2.0",
            "_view_name": "LayoutView",
            "align_content": null,
            "align_items": null,
            "align_self": null,
            "border": null,
            "bottom": null,
            "display": null,
            "flex": null,
            "flex_flow": null,
            "grid_area": null,
            "grid_auto_columns": null,
            "grid_auto_flow": null,
            "grid_auto_rows": null,
            "grid_column": null,
            "grid_gap": null,
            "grid_row": null,
            "grid_template_areas": null,
            "grid_template_columns": null,
            "grid_template_rows": null,
            "height": null,
            "justify_content": null,
            "justify_items": null,
            "left": null,
            "margin": null,
            "max_height": null,
            "max_width": null,
            "min_height": null,
            "min_width": null,
            "object_fit": null,
            "object_position": null,
            "order": null,
            "overflow": null,
            "overflow_x": null,
            "overflow_y": null,
            "padding": null,
            "right": null,
            "top": null,
            "visibility": null,
            "width": null
          }
        },
        "6ebbc85269824662a983cedf1f373181": {
          "model_module": "@jupyter-widgets/controls",
          "model_name": "DescriptionStyleModel",
          "model_module_version": "1.5.0",
          "state": {
            "_model_module": "@jupyter-widgets/controls",
            "_model_module_version": "1.5.0",
            "_model_name": "DescriptionStyleModel",
            "_view_count": null,
            "_view_module": "@jupyter-widgets/base",
            "_view_module_version": "1.2.0",
            "_view_name": "StyleView",
            "description_width": ""
          }
        },
        "d7d5dcf8413947569afb0310a53f1252": {
          "model_module": "@jupyter-widgets/base",
          "model_name": "LayoutModel",
          "model_module_version": "1.2.0",
          "state": {
            "_model_module": "@jupyter-widgets/base",
            "_model_module_version": "1.2.0",
            "_model_name": "LayoutModel",
            "_view_count": null,
            "_view_module": "@jupyter-widgets/base",
            "_view_module_version": "1.2.0",
            "_view_name": "LayoutView",
            "align_content": null,
            "align_items": null,
            "align_self": null,
            "border": null,
            "bottom": null,
            "display": null,
            "flex": null,
            "flex_flow": null,
            "grid_area": null,
            "grid_auto_columns": null,
            "grid_auto_flow": null,
            "grid_auto_rows": null,
            "grid_column": null,
            "grid_gap": null,
            "grid_row": null,
            "grid_template_areas": null,
            "grid_template_columns": null,
            "grid_template_rows": null,
            "height": null,
            "justify_content": null,
            "justify_items": null,
            "left": null,
            "margin": null,
            "max_height": null,
            "max_width": null,
            "min_height": null,
            "min_width": null,
            "object_fit": null,
            "object_position": null,
            "order": null,
            "overflow": null,
            "overflow_x": null,
            "overflow_y": null,
            "padding": null,
            "right": null,
            "top": null,
            "visibility": null,
            "width": null
          }
        },
        "3b51aa7e270d486187a624d7aea12281": {
          "model_module": "@jupyter-widgets/controls",
          "model_name": "ProgressStyleModel",
          "model_module_version": "1.5.0",
          "state": {
            "_model_module": "@jupyter-widgets/controls",
            "_model_module_version": "1.5.0",
            "_model_name": "ProgressStyleModel",
            "_view_count": null,
            "_view_module": "@jupyter-widgets/base",
            "_view_module_version": "1.2.0",
            "_view_name": "StyleView",
            "bar_color": null,
            "description_width": ""
          }
        },
        "c7fe6788c7654b34b741bee9104c856c": {
          "model_module": "@jupyter-widgets/base",
          "model_name": "LayoutModel",
          "model_module_version": "1.2.0",
          "state": {
            "_model_module": "@jupyter-widgets/base",
            "_model_module_version": "1.2.0",
            "_model_name": "LayoutModel",
            "_view_count": null,
            "_view_module": "@jupyter-widgets/base",
            "_view_module_version": "1.2.0",
            "_view_name": "LayoutView",
            "align_content": null,
            "align_items": null,
            "align_self": null,
            "border": null,
            "bottom": null,
            "display": null,
            "flex": null,
            "flex_flow": null,
            "grid_area": null,
            "grid_auto_columns": null,
            "grid_auto_flow": null,
            "grid_auto_rows": null,
            "grid_column": null,
            "grid_gap": null,
            "grid_row": null,
            "grid_template_areas": null,
            "grid_template_columns": null,
            "grid_template_rows": null,
            "height": null,
            "justify_content": null,
            "justify_items": null,
            "left": null,
            "margin": null,
            "max_height": null,
            "max_width": null,
            "min_height": null,
            "min_width": null,
            "object_fit": null,
            "object_position": null,
            "order": null,
            "overflow": null,
            "overflow_x": null,
            "overflow_y": null,
            "padding": null,
            "right": null,
            "top": null,
            "visibility": null,
            "width": null
          }
        },
        "afd40faf70954c8686142631e5340dae": {
          "model_module": "@jupyter-widgets/controls",
          "model_name": "DescriptionStyleModel",
          "model_module_version": "1.5.0",
          "state": {
            "_model_module": "@jupyter-widgets/controls",
            "_model_module_version": "1.5.0",
            "_model_name": "DescriptionStyleModel",
            "_view_count": null,
            "_view_module": "@jupyter-widgets/base",
            "_view_module_version": "1.2.0",
            "_view_name": "StyleView",
            "description_width": ""
          }
        },
        "9377b06cc36c4f9fb4e1d03e46a521e0": {
          "model_module": "@jupyter-widgets/controls",
          "model_name": "HBoxModel",
          "model_module_version": "1.5.0",
          "state": {
            "_dom_classes": [],
            "_model_module": "@jupyter-widgets/controls",
            "_model_module_version": "1.5.0",
            "_model_name": "HBoxModel",
            "_view_count": null,
            "_view_module": "@jupyter-widgets/controls",
            "_view_module_version": "1.5.0",
            "_view_name": "HBoxView",
            "box_style": "",
            "children": [
              "IPY_MODEL_c51b7cf87dd3418a8771432445033c12",
              "IPY_MODEL_09568470983e4886ba517f5e6acdbd71",
              "IPY_MODEL_2454a0213f554dbaa90de028a53c1a69"
            ],
            "layout": "IPY_MODEL_04fd4f6fdea14dad91496db917547911"
          }
        },
        "c51b7cf87dd3418a8771432445033c12": {
          "model_module": "@jupyter-widgets/controls",
          "model_name": "HTMLModel",
          "model_module_version": "1.5.0",
          "state": {
            "_dom_classes": [],
            "_model_module": "@jupyter-widgets/controls",
            "_model_module_version": "1.5.0",
            "_model_name": "HTMLModel",
            "_view_count": null,
            "_view_module": "@jupyter-widgets/controls",
            "_view_module_version": "1.5.0",
            "_view_name": "HTMLView",
            "description": "",
            "description_tooltip": null,
            "layout": "IPY_MODEL_c20524b8aeb84805aa83db3f8215caa0",
            "placeholder": "​",
            "style": "IPY_MODEL_a481ce4a683f46f69558e9705f0a2ee8",
            "value": "100%"
          }
        },
        "09568470983e4886ba517f5e6acdbd71": {
          "model_module": "@jupyter-widgets/controls",
          "model_name": "FloatProgressModel",
          "model_module_version": "1.5.0",
          "state": {
            "_dom_classes": [],
            "_model_module": "@jupyter-widgets/controls",
            "_model_module_version": "1.5.0",
            "_model_name": "FloatProgressModel",
            "_view_count": null,
            "_view_module": "@jupyter-widgets/controls",
            "_view_module_version": "1.5.0",
            "_view_name": "ProgressView",
            "bar_style": "success",
            "description": "",
            "description_tooltip": null,
            "layout": "IPY_MODEL_737e1c9e01524922b7480c6297f7e351",
            "max": 238,
            "min": 0,
            "orientation": "horizontal",
            "style": "IPY_MODEL_f7d83005cef340fe875b143245e38306",
            "value": 238
          }
        },
        "2454a0213f554dbaa90de028a53c1a69": {
          "model_module": "@jupyter-widgets/controls",
          "model_name": "HTMLModel",
          "model_module_version": "1.5.0",
          "state": {
            "_dom_classes": [],
            "_model_module": "@jupyter-widgets/controls",
            "_model_module_version": "1.5.0",
            "_model_name": "HTMLModel",
            "_view_count": null,
            "_view_module": "@jupyter-widgets/controls",
            "_view_module_version": "1.5.0",
            "_view_name": "HTMLView",
            "description": "",
            "description_tooltip": null,
            "layout": "IPY_MODEL_46056e55217b4b568adb5610495dab1b",
            "placeholder": "​",
            "style": "IPY_MODEL_18734f508e9e48039d6df3a92a27f016",
            "value": " 238/238 [11:07&lt;00:00,  2.34s/it]"
          }
        },
        "04fd4f6fdea14dad91496db917547911": {
          "model_module": "@jupyter-widgets/base",
          "model_name": "LayoutModel",
          "model_module_version": "1.2.0",
          "state": {
            "_model_module": "@jupyter-widgets/base",
            "_model_module_version": "1.2.0",
            "_model_name": "LayoutModel",
            "_view_count": null,
            "_view_module": "@jupyter-widgets/base",
            "_view_module_version": "1.2.0",
            "_view_name": "LayoutView",
            "align_content": null,
            "align_items": null,
            "align_self": null,
            "border": null,
            "bottom": null,
            "display": null,
            "flex": null,
            "flex_flow": null,
            "grid_area": null,
            "grid_auto_columns": null,
            "grid_auto_flow": null,
            "grid_auto_rows": null,
            "grid_column": null,
            "grid_gap": null,
            "grid_row": null,
            "grid_template_areas": null,
            "grid_template_columns": null,
            "grid_template_rows": null,
            "height": null,
            "justify_content": null,
            "justify_items": null,
            "left": null,
            "margin": null,
            "max_height": null,
            "max_width": null,
            "min_height": null,
            "min_width": null,
            "object_fit": null,
            "object_position": null,
            "order": null,
            "overflow": null,
            "overflow_x": null,
            "overflow_y": null,
            "padding": null,
            "right": null,
            "top": null,
            "visibility": null,
            "width": null
          }
        },
        "c20524b8aeb84805aa83db3f8215caa0": {
          "model_module": "@jupyter-widgets/base",
          "model_name": "LayoutModel",
          "model_module_version": "1.2.0",
          "state": {
            "_model_module": "@jupyter-widgets/base",
            "_model_module_version": "1.2.0",
            "_model_name": "LayoutModel",
            "_view_count": null,
            "_view_module": "@jupyter-widgets/base",
            "_view_module_version": "1.2.0",
            "_view_name": "LayoutView",
            "align_content": null,
            "align_items": null,
            "align_self": null,
            "border": null,
            "bottom": null,
            "display": null,
            "flex": null,
            "flex_flow": null,
            "grid_area": null,
            "grid_auto_columns": null,
            "grid_auto_flow": null,
            "grid_auto_rows": null,
            "grid_column": null,
            "grid_gap": null,
            "grid_row": null,
            "grid_template_areas": null,
            "grid_template_columns": null,
            "grid_template_rows": null,
            "height": null,
            "justify_content": null,
            "justify_items": null,
            "left": null,
            "margin": null,
            "max_height": null,
            "max_width": null,
            "min_height": null,
            "min_width": null,
            "object_fit": null,
            "object_position": null,
            "order": null,
            "overflow": null,
            "overflow_x": null,
            "overflow_y": null,
            "padding": null,
            "right": null,
            "top": null,
            "visibility": null,
            "width": null
          }
        },
        "a481ce4a683f46f69558e9705f0a2ee8": {
          "model_module": "@jupyter-widgets/controls",
          "model_name": "DescriptionStyleModel",
          "model_module_version": "1.5.0",
          "state": {
            "_model_module": "@jupyter-widgets/controls",
            "_model_module_version": "1.5.0",
            "_model_name": "DescriptionStyleModel",
            "_view_count": null,
            "_view_module": "@jupyter-widgets/base",
            "_view_module_version": "1.2.0",
            "_view_name": "StyleView",
            "description_width": ""
          }
        },
        "737e1c9e01524922b7480c6297f7e351": {
          "model_module": "@jupyter-widgets/base",
          "model_name": "LayoutModel",
          "model_module_version": "1.2.0",
          "state": {
            "_model_module": "@jupyter-widgets/base",
            "_model_module_version": "1.2.0",
            "_model_name": "LayoutModel",
            "_view_count": null,
            "_view_module": "@jupyter-widgets/base",
            "_view_module_version": "1.2.0",
            "_view_name": "LayoutView",
            "align_content": null,
            "align_items": null,
            "align_self": null,
            "border": null,
            "bottom": null,
            "display": null,
            "flex": null,
            "flex_flow": null,
            "grid_area": null,
            "grid_auto_columns": null,
            "grid_auto_flow": null,
            "grid_auto_rows": null,
            "grid_column": null,
            "grid_gap": null,
            "grid_row": null,
            "grid_template_areas": null,
            "grid_template_columns": null,
            "grid_template_rows": null,
            "height": null,
            "justify_content": null,
            "justify_items": null,
            "left": null,
            "margin": null,
            "max_height": null,
            "max_width": null,
            "min_height": null,
            "min_width": null,
            "object_fit": null,
            "object_position": null,
            "order": null,
            "overflow": null,
            "overflow_x": null,
            "overflow_y": null,
            "padding": null,
            "right": null,
            "top": null,
            "visibility": null,
            "width": null
          }
        },
        "f7d83005cef340fe875b143245e38306": {
          "model_module": "@jupyter-widgets/controls",
          "model_name": "ProgressStyleModel",
          "model_module_version": "1.5.0",
          "state": {
            "_model_module": "@jupyter-widgets/controls",
            "_model_module_version": "1.5.0",
            "_model_name": "ProgressStyleModel",
            "_view_count": null,
            "_view_module": "@jupyter-widgets/base",
            "_view_module_version": "1.2.0",
            "_view_name": "StyleView",
            "bar_color": null,
            "description_width": ""
          }
        },
        "46056e55217b4b568adb5610495dab1b": {
          "model_module": "@jupyter-widgets/base",
          "model_name": "LayoutModel",
          "model_module_version": "1.2.0",
          "state": {
            "_model_module": "@jupyter-widgets/base",
            "_model_module_version": "1.2.0",
            "_model_name": "LayoutModel",
            "_view_count": null,
            "_view_module": "@jupyter-widgets/base",
            "_view_module_version": "1.2.0",
            "_view_name": "LayoutView",
            "align_content": null,
            "align_items": null,
            "align_self": null,
            "border": null,
            "bottom": null,
            "display": null,
            "flex": null,
            "flex_flow": null,
            "grid_area": null,
            "grid_auto_columns": null,
            "grid_auto_flow": null,
            "grid_auto_rows": null,
            "grid_column": null,
            "grid_gap": null,
            "grid_row": null,
            "grid_template_areas": null,
            "grid_template_columns": null,
            "grid_template_rows": null,
            "height": null,
            "justify_content": null,
            "justify_items": null,
            "left": null,
            "margin": null,
            "max_height": null,
            "max_width": null,
            "min_height": null,
            "min_width": null,
            "object_fit": null,
            "object_position": null,
            "order": null,
            "overflow": null,
            "overflow_x": null,
            "overflow_y": null,
            "padding": null,
            "right": null,
            "top": null,
            "visibility": null,
            "width": null
          }
        },
        "18734f508e9e48039d6df3a92a27f016": {
          "model_module": "@jupyter-widgets/controls",
          "model_name": "DescriptionStyleModel",
          "model_module_version": "1.5.0",
          "state": {
            "_model_module": "@jupyter-widgets/controls",
            "_model_module_version": "1.5.0",
            "_model_name": "DescriptionStyleModel",
            "_view_count": null,
            "_view_module": "@jupyter-widgets/base",
            "_view_module_version": "1.2.0",
            "_view_name": "StyleView",
            "description_width": ""
          }
        },
        "85dc4e6ed9d04d3c9d1bab9708fc949c": {
          "model_module": "@jupyter-widgets/controls",
          "model_name": "HBoxModel",
          "model_module_version": "1.5.0",
          "state": {
            "_dom_classes": [],
            "_model_module": "@jupyter-widgets/controls",
            "_model_module_version": "1.5.0",
            "_model_name": "HBoxModel",
            "_view_count": null,
            "_view_module": "@jupyter-widgets/controls",
            "_view_module_version": "1.5.0",
            "_view_name": "HBoxView",
            "box_style": "",
            "children": [
              "IPY_MODEL_36c49e1de197443d9a244f3771e5da94",
              "IPY_MODEL_d8054ddae70f434b82c78c422cd4a412",
              "IPY_MODEL_639810265f9a4b82877853a3fce2b83a"
            ],
            "layout": "IPY_MODEL_4c03cd80331d4a51b826070209a0f60d"
          }
        },
        "36c49e1de197443d9a244f3771e5da94": {
          "model_module": "@jupyter-widgets/controls",
          "model_name": "HTMLModel",
          "model_module_version": "1.5.0",
          "state": {
            "_dom_classes": [],
            "_model_module": "@jupyter-widgets/controls",
            "_model_module_version": "1.5.0",
            "_model_name": "HTMLModel",
            "_view_count": null,
            "_view_module": "@jupyter-widgets/controls",
            "_view_module_version": "1.5.0",
            "_view_name": "HTMLView",
            "description": "",
            "description_tooltip": null,
            "layout": "IPY_MODEL_0cd474cabfef478982f64197245bfe15",
            "placeholder": "​",
            "style": "IPY_MODEL_ebc7387f40ae426d81c9c2829b3e3761",
            "value": "100%"
          }
        },
        "d8054ddae70f434b82c78c422cd4a412": {
          "model_module": "@jupyter-widgets/controls",
          "model_name": "FloatProgressModel",
          "model_module_version": "1.5.0",
          "state": {
            "_dom_classes": [],
            "_model_module": "@jupyter-widgets/controls",
            "_model_module_version": "1.5.0",
            "_model_name": "FloatProgressModel",
            "_view_count": null,
            "_view_module": "@jupyter-widgets/controls",
            "_view_module_version": "1.5.0",
            "_view_name": "ProgressView",
            "bar_style": "success",
            "description": "",
            "description_tooltip": null,
            "layout": "IPY_MODEL_ce50d5dd6d2845938cd9a0d4c287d737",
            "max": 60,
            "min": 0,
            "orientation": "horizontal",
            "style": "IPY_MODEL_2c327854f8f2494d849ecde8ffa5c4b1",
            "value": 60
          }
        },
        "639810265f9a4b82877853a3fce2b83a": {
          "model_module": "@jupyter-widgets/controls",
          "model_name": "HTMLModel",
          "model_module_version": "1.5.0",
          "state": {
            "_dom_classes": [],
            "_model_module": "@jupyter-widgets/controls",
            "_model_module_version": "1.5.0",
            "_model_name": "HTMLModel",
            "_view_count": null,
            "_view_module": "@jupyter-widgets/controls",
            "_view_module_version": "1.5.0",
            "_view_name": "HTMLView",
            "description": "",
            "description_tooltip": null,
            "layout": "IPY_MODEL_835bc1e847324a16b090ecbc1e276306",
            "placeholder": "​",
            "style": "IPY_MODEL_be37460866b549f3a33721355cf3501d",
            "value": " 60/60 [00:48&lt;00:00,  1.46it/s]"
          }
        },
        "4c03cd80331d4a51b826070209a0f60d": {
          "model_module": "@jupyter-widgets/base",
          "model_name": "LayoutModel",
          "model_module_version": "1.2.0",
          "state": {
            "_model_module": "@jupyter-widgets/base",
            "_model_module_version": "1.2.0",
            "_model_name": "LayoutModel",
            "_view_count": null,
            "_view_module": "@jupyter-widgets/base",
            "_view_module_version": "1.2.0",
            "_view_name": "LayoutView",
            "align_content": null,
            "align_items": null,
            "align_self": null,
            "border": null,
            "bottom": null,
            "display": null,
            "flex": null,
            "flex_flow": null,
            "grid_area": null,
            "grid_auto_columns": null,
            "grid_auto_flow": null,
            "grid_auto_rows": null,
            "grid_column": null,
            "grid_gap": null,
            "grid_row": null,
            "grid_template_areas": null,
            "grid_template_columns": null,
            "grid_template_rows": null,
            "height": null,
            "justify_content": null,
            "justify_items": null,
            "left": null,
            "margin": null,
            "max_height": null,
            "max_width": null,
            "min_height": null,
            "min_width": null,
            "object_fit": null,
            "object_position": null,
            "order": null,
            "overflow": null,
            "overflow_x": null,
            "overflow_y": null,
            "padding": null,
            "right": null,
            "top": null,
            "visibility": null,
            "width": null
          }
        },
        "0cd474cabfef478982f64197245bfe15": {
          "model_module": "@jupyter-widgets/base",
          "model_name": "LayoutModel",
          "model_module_version": "1.2.0",
          "state": {
            "_model_module": "@jupyter-widgets/base",
            "_model_module_version": "1.2.0",
            "_model_name": "LayoutModel",
            "_view_count": null,
            "_view_module": "@jupyter-widgets/base",
            "_view_module_version": "1.2.0",
            "_view_name": "LayoutView",
            "align_content": null,
            "align_items": null,
            "align_self": null,
            "border": null,
            "bottom": null,
            "display": null,
            "flex": null,
            "flex_flow": null,
            "grid_area": null,
            "grid_auto_columns": null,
            "grid_auto_flow": null,
            "grid_auto_rows": null,
            "grid_column": null,
            "grid_gap": null,
            "grid_row": null,
            "grid_template_areas": null,
            "grid_template_columns": null,
            "grid_template_rows": null,
            "height": null,
            "justify_content": null,
            "justify_items": null,
            "left": null,
            "margin": null,
            "max_height": null,
            "max_width": null,
            "min_height": null,
            "min_width": null,
            "object_fit": null,
            "object_position": null,
            "order": null,
            "overflow": null,
            "overflow_x": null,
            "overflow_y": null,
            "padding": null,
            "right": null,
            "top": null,
            "visibility": null,
            "width": null
          }
        },
        "ebc7387f40ae426d81c9c2829b3e3761": {
          "model_module": "@jupyter-widgets/controls",
          "model_name": "DescriptionStyleModel",
          "model_module_version": "1.5.0",
          "state": {
            "_model_module": "@jupyter-widgets/controls",
            "_model_module_version": "1.5.0",
            "_model_name": "DescriptionStyleModel",
            "_view_count": null,
            "_view_module": "@jupyter-widgets/base",
            "_view_module_version": "1.2.0",
            "_view_name": "StyleView",
            "description_width": ""
          }
        },
        "ce50d5dd6d2845938cd9a0d4c287d737": {
          "model_module": "@jupyter-widgets/base",
          "model_name": "LayoutModel",
          "model_module_version": "1.2.0",
          "state": {
            "_model_module": "@jupyter-widgets/base",
            "_model_module_version": "1.2.0",
            "_model_name": "LayoutModel",
            "_view_count": null,
            "_view_module": "@jupyter-widgets/base",
            "_view_module_version": "1.2.0",
            "_view_name": "LayoutView",
            "align_content": null,
            "align_items": null,
            "align_self": null,
            "border": null,
            "bottom": null,
            "display": null,
            "flex": null,
            "flex_flow": null,
            "grid_area": null,
            "grid_auto_columns": null,
            "grid_auto_flow": null,
            "grid_auto_rows": null,
            "grid_column": null,
            "grid_gap": null,
            "grid_row": null,
            "grid_template_areas": null,
            "grid_template_columns": null,
            "grid_template_rows": null,
            "height": null,
            "justify_content": null,
            "justify_items": null,
            "left": null,
            "margin": null,
            "max_height": null,
            "max_width": null,
            "min_height": null,
            "min_width": null,
            "object_fit": null,
            "object_position": null,
            "order": null,
            "overflow": null,
            "overflow_x": null,
            "overflow_y": null,
            "padding": null,
            "right": null,
            "top": null,
            "visibility": null,
            "width": null
          }
        },
        "2c327854f8f2494d849ecde8ffa5c4b1": {
          "model_module": "@jupyter-widgets/controls",
          "model_name": "ProgressStyleModel",
          "model_module_version": "1.5.0",
          "state": {
            "_model_module": "@jupyter-widgets/controls",
            "_model_module_version": "1.5.0",
            "_model_name": "ProgressStyleModel",
            "_view_count": null,
            "_view_module": "@jupyter-widgets/base",
            "_view_module_version": "1.2.0",
            "_view_name": "StyleView",
            "bar_color": null,
            "description_width": ""
          }
        },
        "835bc1e847324a16b090ecbc1e276306": {
          "model_module": "@jupyter-widgets/base",
          "model_name": "LayoutModel",
          "model_module_version": "1.2.0",
          "state": {
            "_model_module": "@jupyter-widgets/base",
            "_model_module_version": "1.2.0",
            "_model_name": "LayoutModel",
            "_view_count": null,
            "_view_module": "@jupyter-widgets/base",
            "_view_module_version": "1.2.0",
            "_view_name": "LayoutView",
            "align_content": null,
            "align_items": null,
            "align_self": null,
            "border": null,
            "bottom": null,
            "display": null,
            "flex": null,
            "flex_flow": null,
            "grid_area": null,
            "grid_auto_columns": null,
            "grid_auto_flow": null,
            "grid_auto_rows": null,
            "grid_column": null,
            "grid_gap": null,
            "grid_row": null,
            "grid_template_areas": null,
            "grid_template_columns": null,
            "grid_template_rows": null,
            "height": null,
            "justify_content": null,
            "justify_items": null,
            "left": null,
            "margin": null,
            "max_height": null,
            "max_width": null,
            "min_height": null,
            "min_width": null,
            "object_fit": null,
            "object_position": null,
            "order": null,
            "overflow": null,
            "overflow_x": null,
            "overflow_y": null,
            "padding": null,
            "right": null,
            "top": null,
            "visibility": null,
            "width": null
          }
        },
        "be37460866b549f3a33721355cf3501d": {
          "model_module": "@jupyter-widgets/controls",
          "model_name": "DescriptionStyleModel",
          "model_module_version": "1.5.0",
          "state": {
            "_model_module": "@jupyter-widgets/controls",
            "_model_module_version": "1.5.0",
            "_model_name": "DescriptionStyleModel",
            "_view_count": null,
            "_view_module": "@jupyter-widgets/base",
            "_view_module_version": "1.2.0",
            "_view_name": "StyleView",
            "description_width": ""
          }
        },
        "5e6484a8c36a49c98476b4b09d6dbba7": {
          "model_module": "@jupyter-widgets/controls",
          "model_name": "HBoxModel",
          "model_module_version": "1.5.0",
          "state": {
            "_dom_classes": [],
            "_model_module": "@jupyter-widgets/controls",
            "_model_module_version": "1.5.0",
            "_model_name": "HBoxModel",
            "_view_count": null,
            "_view_module": "@jupyter-widgets/controls",
            "_view_module_version": "1.5.0",
            "_view_name": "HBoxView",
            "box_style": "",
            "children": [
              "IPY_MODEL_6053df3c35f541b0ad8ae0dce4612c0d",
              "IPY_MODEL_3e52b9a374b544618c1ca5301227b4a9",
              "IPY_MODEL_3d1e9658bb514886966e915cc63e4b13"
            ],
            "layout": "IPY_MODEL_825b7ed3204d427c8cbc29148a1ab3b8"
          }
        },
        "6053df3c35f541b0ad8ae0dce4612c0d": {
          "model_module": "@jupyter-widgets/controls",
          "model_name": "HTMLModel",
          "model_module_version": "1.5.0",
          "state": {
            "_dom_classes": [],
            "_model_module": "@jupyter-widgets/controls",
            "_model_module_version": "1.5.0",
            "_model_name": "HTMLModel",
            "_view_count": null,
            "_view_module": "@jupyter-widgets/controls",
            "_view_module_version": "1.5.0",
            "_view_name": "HTMLView",
            "description": "",
            "description_tooltip": null,
            "layout": "IPY_MODEL_8377c8a89c674c3b81a0f5523d5bd88b",
            "placeholder": "​",
            "style": "IPY_MODEL_08a1d67b64e345549415c443c65ae635",
            "value": "100%"
          }
        },
        "3e52b9a374b544618c1ca5301227b4a9": {
          "model_module": "@jupyter-widgets/controls",
          "model_name": "FloatProgressModel",
          "model_module_version": "1.5.0",
          "state": {
            "_dom_classes": [],
            "_model_module": "@jupyter-widgets/controls",
            "_model_module_version": "1.5.0",
            "_model_name": "FloatProgressModel",
            "_view_count": null,
            "_view_module": "@jupyter-widgets/controls",
            "_view_module_version": "1.5.0",
            "_view_name": "ProgressView",
            "bar_style": "success",
            "description": "",
            "description_tooltip": null,
            "layout": "IPY_MODEL_623d0170cc094c019d561054b7a2e524",
            "max": 60,
            "min": 0,
            "orientation": "horizontal",
            "style": "IPY_MODEL_121b1e8c550d465a85f2bb481cfde395",
            "value": 60
          }
        },
        "3d1e9658bb514886966e915cc63e4b13": {
          "model_module": "@jupyter-widgets/controls",
          "model_name": "HTMLModel",
          "model_module_version": "1.5.0",
          "state": {
            "_dom_classes": [],
            "_model_module": "@jupyter-widgets/controls",
            "_model_module_version": "1.5.0",
            "_model_name": "HTMLModel",
            "_view_count": null,
            "_view_module": "@jupyter-widgets/controls",
            "_view_module_version": "1.5.0",
            "_view_name": "HTMLView",
            "description": "",
            "description_tooltip": null,
            "layout": "IPY_MODEL_61bf46ee671a4012a1ea0d0571eff9a4",
            "placeholder": "​",
            "style": "IPY_MODEL_7be049a83b97406480e5c50ce2935988",
            "value": " 60/60 [00:27&lt;00:00,  2.63it/s]"
          }
        },
        "825b7ed3204d427c8cbc29148a1ab3b8": {
          "model_module": "@jupyter-widgets/base",
          "model_name": "LayoutModel",
          "model_module_version": "1.2.0",
          "state": {
            "_model_module": "@jupyter-widgets/base",
            "_model_module_version": "1.2.0",
            "_model_name": "LayoutModel",
            "_view_count": null,
            "_view_module": "@jupyter-widgets/base",
            "_view_module_version": "1.2.0",
            "_view_name": "LayoutView",
            "align_content": null,
            "align_items": null,
            "align_self": null,
            "border": null,
            "bottom": null,
            "display": null,
            "flex": null,
            "flex_flow": null,
            "grid_area": null,
            "grid_auto_columns": null,
            "grid_auto_flow": null,
            "grid_auto_rows": null,
            "grid_column": null,
            "grid_gap": null,
            "grid_row": null,
            "grid_template_areas": null,
            "grid_template_columns": null,
            "grid_template_rows": null,
            "height": null,
            "justify_content": null,
            "justify_items": null,
            "left": null,
            "margin": null,
            "max_height": null,
            "max_width": null,
            "min_height": null,
            "min_width": null,
            "object_fit": null,
            "object_position": null,
            "order": null,
            "overflow": null,
            "overflow_x": null,
            "overflow_y": null,
            "padding": null,
            "right": null,
            "top": null,
            "visibility": null,
            "width": null
          }
        },
        "8377c8a89c674c3b81a0f5523d5bd88b": {
          "model_module": "@jupyter-widgets/base",
          "model_name": "LayoutModel",
          "model_module_version": "1.2.0",
          "state": {
            "_model_module": "@jupyter-widgets/base",
            "_model_module_version": "1.2.0",
            "_model_name": "LayoutModel",
            "_view_count": null,
            "_view_module": "@jupyter-widgets/base",
            "_view_module_version": "1.2.0",
            "_view_name": "LayoutView",
            "align_content": null,
            "align_items": null,
            "align_self": null,
            "border": null,
            "bottom": null,
            "display": null,
            "flex": null,
            "flex_flow": null,
            "grid_area": null,
            "grid_auto_columns": null,
            "grid_auto_flow": null,
            "grid_auto_rows": null,
            "grid_column": null,
            "grid_gap": null,
            "grid_row": null,
            "grid_template_areas": null,
            "grid_template_columns": null,
            "grid_template_rows": null,
            "height": null,
            "justify_content": null,
            "justify_items": null,
            "left": null,
            "margin": null,
            "max_height": null,
            "max_width": null,
            "min_height": null,
            "min_width": null,
            "object_fit": null,
            "object_position": null,
            "order": null,
            "overflow": null,
            "overflow_x": null,
            "overflow_y": null,
            "padding": null,
            "right": null,
            "top": null,
            "visibility": null,
            "width": null
          }
        },
        "08a1d67b64e345549415c443c65ae635": {
          "model_module": "@jupyter-widgets/controls",
          "model_name": "DescriptionStyleModel",
          "model_module_version": "1.5.0",
          "state": {
            "_model_module": "@jupyter-widgets/controls",
            "_model_module_version": "1.5.0",
            "_model_name": "DescriptionStyleModel",
            "_view_count": null,
            "_view_module": "@jupyter-widgets/base",
            "_view_module_version": "1.2.0",
            "_view_name": "StyleView",
            "description_width": ""
          }
        },
        "623d0170cc094c019d561054b7a2e524": {
          "model_module": "@jupyter-widgets/base",
          "model_name": "LayoutModel",
          "model_module_version": "1.2.0",
          "state": {
            "_model_module": "@jupyter-widgets/base",
            "_model_module_version": "1.2.0",
            "_model_name": "LayoutModel",
            "_view_count": null,
            "_view_module": "@jupyter-widgets/base",
            "_view_module_version": "1.2.0",
            "_view_name": "LayoutView",
            "align_content": null,
            "align_items": null,
            "align_self": null,
            "border": null,
            "bottom": null,
            "display": null,
            "flex": null,
            "flex_flow": null,
            "grid_area": null,
            "grid_auto_columns": null,
            "grid_auto_flow": null,
            "grid_auto_rows": null,
            "grid_column": null,
            "grid_gap": null,
            "grid_row": null,
            "grid_template_areas": null,
            "grid_template_columns": null,
            "grid_template_rows": null,
            "height": null,
            "justify_content": null,
            "justify_items": null,
            "left": null,
            "margin": null,
            "max_height": null,
            "max_width": null,
            "min_height": null,
            "min_width": null,
            "object_fit": null,
            "object_position": null,
            "order": null,
            "overflow": null,
            "overflow_x": null,
            "overflow_y": null,
            "padding": null,
            "right": null,
            "top": null,
            "visibility": null,
            "width": null
          }
        },
        "121b1e8c550d465a85f2bb481cfde395": {
          "model_module": "@jupyter-widgets/controls",
          "model_name": "ProgressStyleModel",
          "model_module_version": "1.5.0",
          "state": {
            "_model_module": "@jupyter-widgets/controls",
            "_model_module_version": "1.5.0",
            "_model_name": "ProgressStyleModel",
            "_view_count": null,
            "_view_module": "@jupyter-widgets/base",
            "_view_module_version": "1.2.0",
            "_view_name": "StyleView",
            "bar_color": null,
            "description_width": ""
          }
        },
        "61bf46ee671a4012a1ea0d0571eff9a4": {
          "model_module": "@jupyter-widgets/base",
          "model_name": "LayoutModel",
          "model_module_version": "1.2.0",
          "state": {
            "_model_module": "@jupyter-widgets/base",
            "_model_module_version": "1.2.0",
            "_model_name": "LayoutModel",
            "_view_count": null,
            "_view_module": "@jupyter-widgets/base",
            "_view_module_version": "1.2.0",
            "_view_name": "LayoutView",
            "align_content": null,
            "align_items": null,
            "align_self": null,
            "border": null,
            "bottom": null,
            "display": null,
            "flex": null,
            "flex_flow": null,
            "grid_area": null,
            "grid_auto_columns": null,
            "grid_auto_flow": null,
            "grid_auto_rows": null,
            "grid_column": null,
            "grid_gap": null,
            "grid_row": null,
            "grid_template_areas": null,
            "grid_template_columns": null,
            "grid_template_rows": null,
            "height": null,
            "justify_content": null,
            "justify_items": null,
            "left": null,
            "margin": null,
            "max_height": null,
            "max_width": null,
            "min_height": null,
            "min_width": null,
            "object_fit": null,
            "object_position": null,
            "order": null,
            "overflow": null,
            "overflow_x": null,
            "overflow_y": null,
            "padding": null,
            "right": null,
            "top": null,
            "visibility": null,
            "width": null
          }
        },
        "7be049a83b97406480e5c50ce2935988": {
          "model_module": "@jupyter-widgets/controls",
          "model_name": "DescriptionStyleModel",
          "model_module_version": "1.5.0",
          "state": {
            "_model_module": "@jupyter-widgets/controls",
            "_model_module_version": "1.5.0",
            "_model_name": "DescriptionStyleModel",
            "_view_count": null,
            "_view_module": "@jupyter-widgets/base",
            "_view_module_version": "1.2.0",
            "_view_name": "StyleView",
            "description_width": ""
          }
        },
        "013c765211c34d3d826398bfa64608b3": {
          "model_module": "@jupyter-widgets/controls",
          "model_name": "HBoxModel",
          "model_module_version": "1.5.0",
          "state": {
            "_dom_classes": [],
            "_model_module": "@jupyter-widgets/controls",
            "_model_module_version": "1.5.0",
            "_model_name": "HBoxModel",
            "_view_count": null,
            "_view_module": "@jupyter-widgets/controls",
            "_view_module_version": "1.5.0",
            "_view_name": "HBoxView",
            "box_style": "",
            "children": [
              "IPY_MODEL_d04751e3846a42de976dfcbc49f2be34",
              "IPY_MODEL_425af30ad28a4695b731ab7cdddff49b",
              "IPY_MODEL_0444407f139f4c7b9b962663cfa5c685"
            ],
            "layout": "IPY_MODEL_4da75d7e81d74325b94e753dbf2e8d2c"
          }
        },
        "d04751e3846a42de976dfcbc49f2be34": {
          "model_module": "@jupyter-widgets/controls",
          "model_name": "HTMLModel",
          "model_module_version": "1.5.0",
          "state": {
            "_dom_classes": [],
            "_model_module": "@jupyter-widgets/controls",
            "_model_module_version": "1.5.0",
            "_model_name": "HTMLModel",
            "_view_count": null,
            "_view_module": "@jupyter-widgets/controls",
            "_view_module_version": "1.5.0",
            "_view_name": "HTMLView",
            "description": "",
            "description_tooltip": null,
            "layout": "IPY_MODEL_2748db18323d43e4a98a740c5515bae2",
            "placeholder": "​",
            "style": "IPY_MODEL_c0d17123a6a14896b5a8355c5bac2c87",
            "value": "100%"
          }
        },
        "425af30ad28a4695b731ab7cdddff49b": {
          "model_module": "@jupyter-widgets/controls",
          "model_name": "FloatProgressModel",
          "model_module_version": "1.5.0",
          "state": {
            "_dom_classes": [],
            "_model_module": "@jupyter-widgets/controls",
            "_model_module_version": "1.5.0",
            "_model_name": "FloatProgressModel",
            "_view_count": null,
            "_view_module": "@jupyter-widgets/controls",
            "_view_module_version": "1.5.0",
            "_view_name": "ProgressView",
            "bar_style": "success",
            "description": "",
            "description_tooltip": null,
            "layout": "IPY_MODEL_4c469374d1d54f5ebcaca8fa52e7e044",
            "max": 30,
            "min": 0,
            "orientation": "horizontal",
            "style": "IPY_MODEL_9cc692fd4d4647f7a7729ba74d5a5c6a",
            "value": 30
          }
        },
        "0444407f139f4c7b9b962663cfa5c685": {
          "model_module": "@jupyter-widgets/controls",
          "model_name": "HTMLModel",
          "model_module_version": "1.5.0",
          "state": {
            "_dom_classes": [],
            "_model_module": "@jupyter-widgets/controls",
            "_model_module_version": "1.5.0",
            "_model_name": "HTMLModel",
            "_view_count": null,
            "_view_module": "@jupyter-widgets/controls",
            "_view_module_version": "1.5.0",
            "_view_name": "HTMLView",
            "description": "",
            "description_tooltip": null,
            "layout": "IPY_MODEL_5a66ac89ec66449d8b4936d65285c9fb",
            "placeholder": "​",
            "style": "IPY_MODEL_8e3412d6d34c42b890987bfedc64a29c",
            "value": " 30/30 [14:18&lt;00:00, 24.85s/it]"
          }
        },
        "4da75d7e81d74325b94e753dbf2e8d2c": {
          "model_module": "@jupyter-widgets/base",
          "model_name": "LayoutModel",
          "model_module_version": "1.2.0",
          "state": {
            "_model_module": "@jupyter-widgets/base",
            "_model_module_version": "1.2.0",
            "_model_name": "LayoutModel",
            "_view_count": null,
            "_view_module": "@jupyter-widgets/base",
            "_view_module_version": "1.2.0",
            "_view_name": "LayoutView",
            "align_content": null,
            "align_items": null,
            "align_self": null,
            "border": null,
            "bottom": null,
            "display": null,
            "flex": null,
            "flex_flow": null,
            "grid_area": null,
            "grid_auto_columns": null,
            "grid_auto_flow": null,
            "grid_auto_rows": null,
            "grid_column": null,
            "grid_gap": null,
            "grid_row": null,
            "grid_template_areas": null,
            "grid_template_columns": null,
            "grid_template_rows": null,
            "height": null,
            "justify_content": null,
            "justify_items": null,
            "left": null,
            "margin": null,
            "max_height": null,
            "max_width": null,
            "min_height": null,
            "min_width": null,
            "object_fit": null,
            "object_position": null,
            "order": null,
            "overflow": null,
            "overflow_x": null,
            "overflow_y": null,
            "padding": null,
            "right": null,
            "top": null,
            "visibility": null,
            "width": null
          }
        },
        "2748db18323d43e4a98a740c5515bae2": {
          "model_module": "@jupyter-widgets/base",
          "model_name": "LayoutModel",
          "model_module_version": "1.2.0",
          "state": {
            "_model_module": "@jupyter-widgets/base",
            "_model_module_version": "1.2.0",
            "_model_name": "LayoutModel",
            "_view_count": null,
            "_view_module": "@jupyter-widgets/base",
            "_view_module_version": "1.2.0",
            "_view_name": "LayoutView",
            "align_content": null,
            "align_items": null,
            "align_self": null,
            "border": null,
            "bottom": null,
            "display": null,
            "flex": null,
            "flex_flow": null,
            "grid_area": null,
            "grid_auto_columns": null,
            "grid_auto_flow": null,
            "grid_auto_rows": null,
            "grid_column": null,
            "grid_gap": null,
            "grid_row": null,
            "grid_template_areas": null,
            "grid_template_columns": null,
            "grid_template_rows": null,
            "height": null,
            "justify_content": null,
            "justify_items": null,
            "left": null,
            "margin": null,
            "max_height": null,
            "max_width": null,
            "min_height": null,
            "min_width": null,
            "object_fit": null,
            "object_position": null,
            "order": null,
            "overflow": null,
            "overflow_x": null,
            "overflow_y": null,
            "padding": null,
            "right": null,
            "top": null,
            "visibility": null,
            "width": null
          }
        },
        "c0d17123a6a14896b5a8355c5bac2c87": {
          "model_module": "@jupyter-widgets/controls",
          "model_name": "DescriptionStyleModel",
          "model_module_version": "1.5.0",
          "state": {
            "_model_module": "@jupyter-widgets/controls",
            "_model_module_version": "1.5.0",
            "_model_name": "DescriptionStyleModel",
            "_view_count": null,
            "_view_module": "@jupyter-widgets/base",
            "_view_module_version": "1.2.0",
            "_view_name": "StyleView",
            "description_width": ""
          }
        },
        "4c469374d1d54f5ebcaca8fa52e7e044": {
          "model_module": "@jupyter-widgets/base",
          "model_name": "LayoutModel",
          "model_module_version": "1.2.0",
          "state": {
            "_model_module": "@jupyter-widgets/base",
            "_model_module_version": "1.2.0",
            "_model_name": "LayoutModel",
            "_view_count": null,
            "_view_module": "@jupyter-widgets/base",
            "_view_module_version": "1.2.0",
            "_view_name": "LayoutView",
            "align_content": null,
            "align_items": null,
            "align_self": null,
            "border": null,
            "bottom": null,
            "display": null,
            "flex": null,
            "flex_flow": null,
            "grid_area": null,
            "grid_auto_columns": null,
            "grid_auto_flow": null,
            "grid_auto_rows": null,
            "grid_column": null,
            "grid_gap": null,
            "grid_row": null,
            "grid_template_areas": null,
            "grid_template_columns": null,
            "grid_template_rows": null,
            "height": null,
            "justify_content": null,
            "justify_items": null,
            "left": null,
            "margin": null,
            "max_height": null,
            "max_width": null,
            "min_height": null,
            "min_width": null,
            "object_fit": null,
            "object_position": null,
            "order": null,
            "overflow": null,
            "overflow_x": null,
            "overflow_y": null,
            "padding": null,
            "right": null,
            "top": null,
            "visibility": null,
            "width": null
          }
        },
        "9cc692fd4d4647f7a7729ba74d5a5c6a": {
          "model_module": "@jupyter-widgets/controls",
          "model_name": "ProgressStyleModel",
          "model_module_version": "1.5.0",
          "state": {
            "_model_module": "@jupyter-widgets/controls",
            "_model_module_version": "1.5.0",
            "_model_name": "ProgressStyleModel",
            "_view_count": null,
            "_view_module": "@jupyter-widgets/base",
            "_view_module_version": "1.2.0",
            "_view_name": "StyleView",
            "bar_color": null,
            "description_width": ""
          }
        },
        "5a66ac89ec66449d8b4936d65285c9fb": {
          "model_module": "@jupyter-widgets/base",
          "model_name": "LayoutModel",
          "model_module_version": "1.2.0",
          "state": {
            "_model_module": "@jupyter-widgets/base",
            "_model_module_version": "1.2.0",
            "_model_name": "LayoutModel",
            "_view_count": null,
            "_view_module": "@jupyter-widgets/base",
            "_view_module_version": "1.2.0",
            "_view_name": "LayoutView",
            "align_content": null,
            "align_items": null,
            "align_self": null,
            "border": null,
            "bottom": null,
            "display": null,
            "flex": null,
            "flex_flow": null,
            "grid_area": null,
            "grid_auto_columns": null,
            "grid_auto_flow": null,
            "grid_auto_rows": null,
            "grid_column": null,
            "grid_gap": null,
            "grid_row": null,
            "grid_template_areas": null,
            "grid_template_columns": null,
            "grid_template_rows": null,
            "height": null,
            "justify_content": null,
            "justify_items": null,
            "left": null,
            "margin": null,
            "max_height": null,
            "max_width": null,
            "min_height": null,
            "min_width": null,
            "object_fit": null,
            "object_position": null,
            "order": null,
            "overflow": null,
            "overflow_x": null,
            "overflow_y": null,
            "padding": null,
            "right": null,
            "top": null,
            "visibility": null,
            "width": null
          }
        },
        "8e3412d6d34c42b890987bfedc64a29c": {
          "model_module": "@jupyter-widgets/controls",
          "model_name": "DescriptionStyleModel",
          "model_module_version": "1.5.0",
          "state": {
            "_model_module": "@jupyter-widgets/controls",
            "_model_module_version": "1.5.0",
            "_model_name": "DescriptionStyleModel",
            "_view_count": null,
            "_view_module": "@jupyter-widgets/base",
            "_view_module_version": "1.2.0",
            "_view_name": "StyleView",
            "description_width": ""
          }
        }
      }
    }
  },
  "nbformat": 4,
  "nbformat_minor": 0
}